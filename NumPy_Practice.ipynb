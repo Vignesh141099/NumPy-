{
  "cells": [
    {
      "cell_type": "markdown",
      "metadata": {
        "id": "view-in-github",
        "colab_type": "text"
      },
      "source": [
        "<a href=\"https://colab.research.google.com/github/Vignesh141099/NumPy-/blob/main/NumPy_Practice.ipynb\" target=\"_parent\"><img src=\"https://colab.research.google.com/assets/colab-badge.svg\" alt=\"Open In Colab\"/></a>"
      ]
    },
    {
      "cell_type": "markdown",
      "metadata": {
        "id": "6fW9u7U2f3tw"
      },
      "source": [
        "The first thing we want to do is import numpy."
      ]
    },
    {
      "cell_type": "code",
      "execution_count": 1,
      "metadata": {
        "id": "nWrV7p86f3t8"
      },
      "outputs": [],
      "source": [
        "import numpy as np"
      ]
    },
    {
      "cell_type": "markdown",
      "metadata": {
        "id": "OUtpmrmjf3t_"
      },
      "source": [
        "Let us first define a Python list containing the ages of 6 people."
      ]
    },
    {
      "cell_type": "code",
      "execution_count": 2,
      "metadata": {
        "colab": {
          "base_uri": "https://localhost:8080/"
        },
        "id": "QyiKV7NEf3uA",
        "outputId": "5a6057dd-54bb-4683-ff5f-7b7bbe2af6d5"
      },
      "outputs": [
        {
          "output_type": "stream",
          "name": "stdout",
          "text": [
            "[10, 5, 8, 32, 65, 43]\n"
          ]
        }
      ],
      "source": [
        "ages_list = [10, 5, 8, 32, 65, 43]\n",
        "print(ages_list)"
      ]
    },
    {
      "cell_type": "markdown",
      "metadata": {
        "id": "El-V-61if3uB"
      },
      "source": [
        "There are 3 main ways to instantiate a Numpy ndarray object. One of these is to use `np.array(<collection>)`"
      ]
    },
    {
      "cell_type": "code",
      "execution_count": 3,
      "metadata": {
        "colab": {
          "base_uri": "https://localhost:8080/"
        },
        "id": "ArD3kzlRf3uC",
        "outputId": "736c4b0e-5e35-465c-a2d7-088714ab2daf"
      },
      "outputs": [
        {
          "output_type": "stream",
          "name": "stdout",
          "text": [
            "<class 'numpy.ndarray'>\n",
            "[10  5  8 32 65 43]\n"
          ]
        }
      ],
      "source": [
        "ages = np.array(ages_list)\n",
        "print(type(ages))\n",
        "print(ages)"
      ]
    },
    {
      "cell_type": "code",
      "execution_count": 6,
      "metadata": {
        "colab": {
          "base_uri": "https://localhost:8080/"
        },
        "id": "nn3XpvQtf3uE",
        "outputId": "edd1de67-5fef-481b-bf1f-32a87edb1979"
      },
      "outputs": [
        {
          "output_type": "stream",
          "name": "stdout",
          "text": [
            "[10  5  8 32 65 43]\n",
            "Size:\t 6\n",
            "Shape:\t (6,)\n"
          ]
        }
      ],
      "source": [
        "print(ages)\n",
        "print(\"Size:\\t\" , ages.size)\n",
        "print(\"Shape:\\t\", ages.shape)"
      ]
    },
    {
      "cell_type": "code",
      "execution_count": 7,
      "metadata": {
        "scrolled": true,
        "colab": {
          "base_uri": "https://localhost:8080/"
        },
        "id": "HGPTfW5qf3uG",
        "outputId": "4f7b77a0-1f28-4a4d-80f7-74e397c4b6d9"
      },
      "outputs": [
        {
          "output_type": "stream",
          "name": "stdout",
          "text": [
            "[0. 0. 0. 0. 0.]\n"
          ]
        }
      ],
      "source": [
        "zeroArr = np.zeros(5)\n",
        "print(zeroArr)"
      ]
    },
    {
      "cell_type": "markdown",
      "metadata": {
        "id": "WXqxb_I3f3uI"
      },
      "source": [
        "### Multi-dim"
      ]
    },
    {
      "cell_type": "markdown",
      "metadata": {
        "id": "iIOqFgVBf3uJ"
      },
      "source": [
        "Now let us define a new list containing the weights of these 6 people."
      ]
    },
    {
      "cell_type": "code",
      "execution_count": 8,
      "metadata": {
        "id": "7AGncgWpf3uK"
      },
      "outputs": [],
      "source": [
        "weight_list = [32, 18, 26, 60, 55, 65]"
      ]
    },
    {
      "cell_type": "markdown",
      "metadata": {
        "id": "TxoB9DXnf3uL"
      },
      "source": [
        "Now, we define an ndarray containing all fo this information, and again print the size and shape of the array."
      ]
    },
    {
      "cell_type": "code",
      "execution_count": 9,
      "metadata": {
        "colab": {
          "base_uri": "https://localhost:8080/"
        },
        "id": "-E_edHa7f3uM",
        "outputId": "7bc31388-17ea-45a5-a3be-5f6bb76b1df4"
      },
      "outputs": [
        {
          "output_type": "stream",
          "name": "stdout",
          "text": [
            "People:\t [[10  5  8 32 65 43]\n",
            " [32 18 26 60 55 65]]\n",
            "Size:\t 12\n",
            "Shape:\t (2, 6)\n"
          ]
        }
      ],
      "source": [
        "people = np.array([ages_list, weight_list])\n",
        "\n",
        "print(\"People:\\t\" , people)\n",
        "print(\"Size:\\t\" , people.size)\n",
        "print(\"Shape:\\t\", people.shape)"
      ]
    },
    {
      "cell_type": "code",
      "execution_count": 10,
      "metadata": {
        "colab": {
          "base_uri": "https://localhost:8080/"
        },
        "id": "90m9B-kpf3uN",
        "outputId": "d0ee8eb9-de73-4a7c-d6ba-62977b9532af"
      },
      "outputs": [
        {
          "output_type": "stream",
          "name": "stdout",
          "text": [
            "People:\t [[10]\n",
            " [ 5]\n",
            " [ 8]\n",
            " [32]\n",
            " [65]\n",
            " [43]\n",
            " [32]\n",
            " [18]\n",
            " [26]\n",
            " [60]\n",
            " [55]\n",
            " [65]]\n",
            "Size:\t 12\n",
            "Shape:\t (12, 1)\n"
          ]
        }
      ],
      "source": [
        "# 2 X 6 = 1 X 12 = 4 X 3 = 3 X 4 = 12 X 1 \n",
        "\n",
        "people = people.reshape(12,1)\n",
        "print(\"People:\\t\" , people)\n",
        "print(\"Size:\\t\" , people.size)\n",
        "print(\"Shape:\\t\", people.shape)"
      ]
    },
    {
      "cell_type": "markdown",
      "metadata": {
        "id": "I3P4thf4f3uP"
      },
      "source": [
        "###### Note: The new shape must be the same \"size\" as the old shape"
      ]
    },
    {
      "cell_type": "markdown",
      "metadata": {
        "id": "H27O3qvEf3uS"
      },
      "source": [
        "## Array Generation"
      ]
    },
    {
      "cell_type": "markdown",
      "metadata": {
        "id": "iBmTn_yCf3uT"
      },
      "source": [
        "Instead of defining an array manually, we can ask numpy to do it for us.\n",
        "\n",
        "The `np.arange()` method creates a range of numbers with user defined steps between each."
      ]
    },
    {
      "cell_type": "code",
      "execution_count": 11,
      "metadata": {
        "id": "G8jeRmOmf3uU",
        "colab": {
          "base_uri": "https://localhost:8080/"
        },
        "outputId": "bbe874dc-5cc7-4e4c-f6e4-8e4766093a8d"
      },
      "outputs": [
        {
          "output_type": "execute_result",
          "data": {
            "text/plain": [
              "array([ 0,  5, 10, 15, 20, 25, 30, 35, 40, 45, 50])"
            ]
          },
          "metadata": {},
          "execution_count": 11
        }
      ],
      "source": [
        "five_times_table = np.arange(0, 55, 5)\n",
        "five_times_table"
      ]
    },
    {
      "cell_type": "markdown",
      "metadata": {
        "id": "G8wbT3qKf3uV"
      },
      "source": [
        "The `np.linspace()` method will produce a range of evenly spaced values, starting, ending, and taking as many steps as you specify."
      ]
    },
    {
      "cell_type": "code",
      "execution_count": 15,
      "metadata": {
        "id": "jkTCkOHYf3uV",
        "colab": {
          "base_uri": "https://localhost:8080/"
        },
        "outputId": "55f01e2f-0524-45d9-c890-65219095f316"
      },
      "outputs": [
        {
          "output_type": "stream",
          "name": "stdout",
          "text": [
            "[ 0.  5. 10. 15. 20. 25. 30. 35. 40. 45. 50.]\n"
          ]
        }
      ],
      "source": [
        "five_spaced = np.linspace(0,50,11)\n",
        "print(five_spaced)"
      ]
    },
    {
      "cell_type": "markdown",
      "metadata": {
        "id": "ORrsfDI5f3uW"
      },
      "source": [
        "The `.repeat()` method will repeat an object you pas a specified number of times."
      ]
    },
    {
      "cell_type": "code",
      "execution_count": 13,
      "metadata": {
        "id": "lghyp6hgf3uW",
        "colab": {
          "base_uri": "https://localhost:8080/"
        },
        "outputId": "b9e7bb1c-46c9-4db8-e2f0-e6e317033752"
      },
      "outputs": [
        {
          "output_type": "stream",
          "name": "stdout",
          "text": [
            "[2 2 2 2 2 2 2 2 2 2]\n"
          ]
        }
      ],
      "source": [
        "twoArr = np.repeat(2, 10)\n",
        "print(twoArr)"
      ]
    },
    {
      "cell_type": "markdown",
      "metadata": {
        "id": "97emCPGNf3uX"
      },
      "source": [
        "The `np.eye()` functions will create an identity matrix/array for us."
      ]
    },
    {
      "cell_type": "code",
      "execution_count": 16,
      "metadata": {
        "id": "p6C8QH5Bf3uX",
        "colab": {
          "base_uri": "https://localhost:8080/"
        },
        "outputId": "c34ed3bf-e198-42f5-b20e-7563f5b1c1cb"
      },
      "outputs": [
        {
          "output_type": "stream",
          "name": "stdout",
          "text": [
            "[[1. 0. 0. 0. 0. 0.]\n",
            " [0. 1. 0. 0. 0. 0.]\n",
            " [0. 0. 1. 0. 0. 0.]\n",
            " [0. 0. 0. 1. 0. 0.]\n",
            " [0. 0. 0. 0. 1. 0.]\n",
            " [0. 0. 0. 0. 0. 1.]]\n"
          ]
        }
      ],
      "source": [
        "identity_matrix = np.eye(6)\n",
        "print(identity_matrix)"
      ]
    },
    {
      "cell_type": "markdown",
      "metadata": {
        "id": "-_KFyodHf3uY"
      },
      "source": [
        "# Operations"
      ]
    },
    {
      "cell_type": "markdown",
      "metadata": {
        "id": "8oSXTBcSf3uY"
      },
      "source": [
        "There are many, many operations which we can perform on arrays. Below, we demonstrate a few."
      ]
    },
    {
      "cell_type": "markdown",
      "metadata": {
        "id": "txj5KOPIf3uY"
      },
      "source": [
        "What is happening in each line?"
      ]
    },
    {
      "cell_type": "code",
      "execution_count": 17,
      "metadata": {
        "id": "83l_BkSVf3uZ",
        "colab": {
          "base_uri": "https://localhost:8080/"
        },
        "outputId": "fd128b19-9edb-4c30-e455-263c2abaf82a"
      },
      "outputs": [
        {
          "output_type": "execute_result",
          "data": {
            "text/plain": [
              "array([ 0,  5, 10, 15, 20, 25, 30, 35, 40, 45, 50])"
            ]
          },
          "metadata": {},
          "execution_count": 17
        }
      ],
      "source": [
        "five_times_table"
      ]
    },
    {
      "cell_type": "code",
      "execution_count": 18,
      "metadata": {
        "scrolled": true,
        "id": "wSVr_aruf3uk",
        "colab": {
          "base_uri": "https://localhost:8080/"
        },
        "outputId": "84fcfe12-1940-4956-8f2a-9406ae02189d"
      },
      "outputs": [
        {
          "output_type": "stream",
          "name": "stdout",
          "text": [
            "1: [  0  10  20  30  40  50  60  70  80  90 100]\n",
            "2: [10 15 20 25 30 35 40 45 50 55 60]\n",
            "3: [-1  4  9 14 19 24 29 34 39 44 49]\n",
            "4: [ 0.  1.  2.  3.  4.  5.  6.  7.  8.  9. 10.]\n",
            "5: [   0   25  100  225  400  625  900 1225 1600 2025 2500]\n",
            "6: [ True  True  True  True False False False False False False False]\n"
          ]
        }
      ],
      "source": [
        "print(\"1:\", 2 * five_times_table)\n",
        "print(\"2:\", 10 + five_times_table)\n",
        "print(\"3:\", five_times_table - 1)\n",
        "print(\"4:\", five_times_table/5)\n",
        "print(\"5:\", five_times_table **2)\n",
        "print(\"6:\", five_times_table < 20)"
      ]
    },
    {
      "cell_type": "markdown",
      "metadata": {
        "id": "bnyjVvfTf3uk"
      },
      "source": [
        "### Speed Test"
      ]
    },
    {
      "cell_type": "markdown",
      "metadata": {
        "id": "p1NDiwD0f3ul"
      },
      "source": [
        "If we compare the speed at which we can do these operations compared to core python, we will notice a substantial difference."
      ]
    },
    {
      "cell_type": "code",
      "execution_count": 24,
      "metadata": {
        "scrolled": true,
        "id": "5vVNgPGsf3ul",
        "colab": {
          "base_uri": "https://localhost:8080/"
        },
        "outputId": "0cb62d1d-9f90-468d-d64d-2f5b596b08d4"
      },
      "outputs": [
        {
          "output_type": "execute_result",
          "data": {
            "text/plain": [
              "[0,\n",
              " 5,\n",
              " 10,\n",
              " 15,\n",
              " 20,\n",
              " 25,\n",
              " 30,\n",
              " 35,\n",
              " 40,\n",
              " 45,\n",
              " 50,\n",
              " 55,\n",
              " 60,\n",
              " 65,\n",
              " 70,\n",
              " 75,\n",
              " 80,\n",
              " 85,\n",
              " 90,\n",
              " 95,\n",
              " 100,\n",
              " 105,\n",
              " 110,\n",
              " 115,\n",
              " 120,\n",
              " 125,\n",
              " 130,\n",
              " 135,\n",
              " 140,\n",
              " 145,\n",
              " 150,\n",
              " 155,\n",
              " 160,\n",
              " 165,\n",
              " 170,\n",
              " 175,\n",
              " 180,\n",
              " 185,\n",
              " 190,\n",
              " 195,\n",
              " 200,\n",
              " 205,\n",
              " 210,\n",
              " 215,\n",
              " 220,\n",
              " 225,\n",
              " 230,\n",
              " 235,\n",
              " 240,\n",
              " 245,\n",
              " 250,\n",
              " 255,\n",
              " 260,\n",
              " 265,\n",
              " 270,\n",
              " 275,\n",
              " 280,\n",
              " 285,\n",
              " 290,\n",
              " 295,\n",
              " 300,\n",
              " 305,\n",
              " 310,\n",
              " 315,\n",
              " 320,\n",
              " 325,\n",
              " 330,\n",
              " 335,\n",
              " 340,\n",
              " 345,\n",
              " 350,\n",
              " 355,\n",
              " 360,\n",
              " 365,\n",
              " 370,\n",
              " 375,\n",
              " 380,\n",
              " 385,\n",
              " 390,\n",
              " 395,\n",
              " 400,\n",
              " 405,\n",
              " 410,\n",
              " 415,\n",
              " 420,\n",
              " 425,\n",
              " 430,\n",
              " 435,\n",
              " 440,\n",
              " 445,\n",
              " 450,\n",
              " 455,\n",
              " 460,\n",
              " 465,\n",
              " 470,\n",
              " 475,\n",
              " 480,\n",
              " 485,\n",
              " 490,\n",
              " 495,\n",
              " 500,\n",
              " 505,\n",
              " 510,\n",
              " 515,\n",
              " 520,\n",
              " 525,\n",
              " 530,\n",
              " 535,\n",
              " 540,\n",
              " 545,\n",
              " 550,\n",
              " 555,\n",
              " 560,\n",
              " 565,\n",
              " 570,\n",
              " 575,\n",
              " 580,\n",
              " 585,\n",
              " 590,\n",
              " 595,\n",
              " 600,\n",
              " 605,\n",
              " 610,\n",
              " 615,\n",
              " 620,\n",
              " 625,\n",
              " 630,\n",
              " 635,\n",
              " 640,\n",
              " 645,\n",
              " 650,\n",
              " 655,\n",
              " 660,\n",
              " 665,\n",
              " 670,\n",
              " 675,\n",
              " 680,\n",
              " 685,\n",
              " 690,\n",
              " 695,\n",
              " 700,\n",
              " 705,\n",
              " 710,\n",
              " 715,\n",
              " 720,\n",
              " 725,\n",
              " 730,\n",
              " 735,\n",
              " 740,\n",
              " 745,\n",
              " 750,\n",
              " 755,\n",
              " 760,\n",
              " 765,\n",
              " 770,\n",
              " 775,\n",
              " 780,\n",
              " 785,\n",
              " 790,\n",
              " 795,\n",
              " 800,\n",
              " 805,\n",
              " 810,\n",
              " 815,\n",
              " 820,\n",
              " 825,\n",
              " 830,\n",
              " 835,\n",
              " 840,\n",
              " 845,\n",
              " 850,\n",
              " 855,\n",
              " 860,\n",
              " 865,\n",
              " 870,\n",
              " 875,\n",
              " 880,\n",
              " 885,\n",
              " 890,\n",
              " 895,\n",
              " 900,\n",
              " 905,\n",
              " 910,\n",
              " 915,\n",
              " 920,\n",
              " 925,\n",
              " 930,\n",
              " 935,\n",
              " 940,\n",
              " 945,\n",
              " 950,\n",
              " 955,\n",
              " 960,\n",
              " 965,\n",
              " 970,\n",
              " 975,\n",
              " 980,\n",
              " 985,\n",
              " 990,\n",
              " 995,\n",
              " 1000,\n",
              " 1005,\n",
              " 1010,\n",
              " 1015,\n",
              " 1020,\n",
              " 1025,\n",
              " 1030,\n",
              " 1035,\n",
              " 1040,\n",
              " 1045,\n",
              " 1050,\n",
              " 1055,\n",
              " 1060,\n",
              " 1065,\n",
              " 1070,\n",
              " 1075,\n",
              " 1080,\n",
              " 1085,\n",
              " 1090,\n",
              " 1095,\n",
              " 1100,\n",
              " 1105,\n",
              " 1110,\n",
              " 1115,\n",
              " 1120,\n",
              " 1125,\n",
              " 1130,\n",
              " 1135,\n",
              " 1140,\n",
              " 1145,\n",
              " 1150,\n",
              " 1155,\n",
              " 1160,\n",
              " 1165,\n",
              " 1170,\n",
              " 1175,\n",
              " 1180,\n",
              " 1185,\n",
              " 1190,\n",
              " 1195,\n",
              " 1200,\n",
              " 1205,\n",
              " 1210,\n",
              " 1215,\n",
              " 1220,\n",
              " 1225,\n",
              " 1230,\n",
              " 1235,\n",
              " 1240,\n",
              " 1245,\n",
              " 1250,\n",
              " 1255,\n",
              " 1260,\n",
              " 1265,\n",
              " 1270,\n",
              " 1275,\n",
              " 1280,\n",
              " 1285,\n",
              " 1290,\n",
              " 1295,\n",
              " 1300,\n",
              " 1305,\n",
              " 1310,\n",
              " 1315,\n",
              " 1320,\n",
              " 1325,\n",
              " 1330,\n",
              " 1335,\n",
              " 1340,\n",
              " 1345,\n",
              " 1350,\n",
              " 1355,\n",
              " 1360,\n",
              " 1365,\n",
              " 1370,\n",
              " 1375,\n",
              " 1380,\n",
              " 1385,\n",
              " 1390,\n",
              " 1395,\n",
              " 1400,\n",
              " 1405,\n",
              " 1410,\n",
              " 1415,\n",
              " 1420,\n",
              " 1425,\n",
              " 1430,\n",
              " 1435,\n",
              " 1440,\n",
              " 1445,\n",
              " 1450,\n",
              " 1455,\n",
              " 1460,\n",
              " 1465,\n",
              " 1470,\n",
              " 1475,\n",
              " 1480,\n",
              " 1485,\n",
              " 1490,\n",
              " 1495,\n",
              " 1500,\n",
              " 1505,\n",
              " 1510,\n",
              " 1515,\n",
              " 1520,\n",
              " 1525,\n",
              " 1530,\n",
              " 1535,\n",
              " 1540,\n",
              " 1545,\n",
              " 1550,\n",
              " 1555,\n",
              " 1560,\n",
              " 1565,\n",
              " 1570,\n",
              " 1575,\n",
              " 1580,\n",
              " 1585,\n",
              " 1590,\n",
              " 1595,\n",
              " 1600,\n",
              " 1605,\n",
              " 1610,\n",
              " 1615,\n",
              " 1620,\n",
              " 1625,\n",
              " 1630,\n",
              " 1635,\n",
              " 1640,\n",
              " 1645,\n",
              " 1650,\n",
              " 1655,\n",
              " 1660,\n",
              " 1665,\n",
              " 1670,\n",
              " 1675,\n",
              " 1680,\n",
              " 1685,\n",
              " 1690,\n",
              " 1695,\n",
              " 1700,\n",
              " 1705,\n",
              " 1710,\n",
              " 1715,\n",
              " 1720,\n",
              " 1725,\n",
              " 1730,\n",
              " 1735,\n",
              " 1740,\n",
              " 1745,\n",
              " 1750,\n",
              " 1755,\n",
              " 1760,\n",
              " 1765,\n",
              " 1770,\n",
              " 1775,\n",
              " 1780,\n",
              " 1785,\n",
              " 1790,\n",
              " 1795,\n",
              " 1800,\n",
              " 1805,\n",
              " 1810,\n",
              " 1815,\n",
              " 1820,\n",
              " 1825,\n",
              " 1830,\n",
              " 1835,\n",
              " 1840,\n",
              " 1845,\n",
              " 1850,\n",
              " 1855,\n",
              " 1860,\n",
              " 1865,\n",
              " 1870,\n",
              " 1875,\n",
              " 1880,\n",
              " 1885,\n",
              " 1890,\n",
              " 1895,\n",
              " 1900,\n",
              " 1905,\n",
              " 1910,\n",
              " 1915,\n",
              " 1920,\n",
              " 1925,\n",
              " 1930,\n",
              " 1935,\n",
              " 1940,\n",
              " 1945,\n",
              " 1950,\n",
              " 1955,\n",
              " 1960,\n",
              " 1965,\n",
              " 1970,\n",
              " 1975,\n",
              " 1980,\n",
              " 1985,\n",
              " 1990,\n",
              " 1995,\n",
              " 2000,\n",
              " 2005,\n",
              " 2010,\n",
              " 2015,\n",
              " 2020,\n",
              " 2025,\n",
              " 2030,\n",
              " 2035,\n",
              " 2040,\n",
              " 2045,\n",
              " 2050,\n",
              " 2055,\n",
              " 2060,\n",
              " 2065,\n",
              " 2070,\n",
              " 2075,\n",
              " 2080,\n",
              " 2085,\n",
              " 2090,\n",
              " 2095,\n",
              " 2100,\n",
              " 2105,\n",
              " 2110,\n",
              " 2115,\n",
              " 2120,\n",
              " 2125,\n",
              " 2130,\n",
              " 2135,\n",
              " 2140,\n",
              " 2145,\n",
              " 2150,\n",
              " 2155,\n",
              " 2160,\n",
              " 2165,\n",
              " 2170,\n",
              " 2175,\n",
              " 2180,\n",
              " 2185,\n",
              " 2190,\n",
              " 2195,\n",
              " 2200,\n",
              " 2205,\n",
              " 2210,\n",
              " 2215,\n",
              " 2220,\n",
              " 2225,\n",
              " 2230,\n",
              " 2235,\n",
              " 2240,\n",
              " 2245,\n",
              " 2250,\n",
              " 2255,\n",
              " 2260,\n",
              " 2265,\n",
              " 2270,\n",
              " 2275,\n",
              " 2280,\n",
              " 2285,\n",
              " 2290,\n",
              " 2295,\n",
              " 2300,\n",
              " 2305,\n",
              " 2310,\n",
              " 2315,\n",
              " 2320,\n",
              " 2325,\n",
              " 2330,\n",
              " 2335,\n",
              " 2340,\n",
              " 2345,\n",
              " 2350,\n",
              " 2355,\n",
              " 2360,\n",
              " 2365,\n",
              " 2370,\n",
              " 2375,\n",
              " 2380,\n",
              " 2385,\n",
              " 2390,\n",
              " 2395,\n",
              " 2400,\n",
              " 2405,\n",
              " 2410,\n",
              " 2415,\n",
              " 2420,\n",
              " 2425,\n",
              " 2430,\n",
              " 2435,\n",
              " 2440,\n",
              " 2445,\n",
              " 2450,\n",
              " 2455,\n",
              " 2460,\n",
              " 2465,\n",
              " 2470,\n",
              " 2475,\n",
              " 2480,\n",
              " 2485,\n",
              " 2490,\n",
              " 2495,\n",
              " 2500,\n",
              " 2505,\n",
              " 2510,\n",
              " 2515,\n",
              " 2520,\n",
              " 2525,\n",
              " 2530,\n",
              " 2535,\n",
              " 2540,\n",
              " 2545,\n",
              " 2550,\n",
              " 2555,\n",
              " 2560,\n",
              " 2565,\n",
              " 2570,\n",
              " 2575,\n",
              " 2580,\n",
              " 2585,\n",
              " 2590,\n",
              " 2595,\n",
              " 2600,\n",
              " 2605,\n",
              " 2610,\n",
              " 2615,\n",
              " 2620,\n",
              " 2625,\n",
              " 2630,\n",
              " 2635,\n",
              " 2640,\n",
              " 2645,\n",
              " 2650,\n",
              " 2655,\n",
              " 2660,\n",
              " 2665,\n",
              " 2670,\n",
              " 2675,\n",
              " 2680,\n",
              " 2685,\n",
              " 2690,\n",
              " 2695,\n",
              " 2700,\n",
              " 2705,\n",
              " 2710,\n",
              " 2715,\n",
              " 2720,\n",
              " 2725,\n",
              " 2730,\n",
              " 2735,\n",
              " 2740,\n",
              " 2745,\n",
              " 2750,\n",
              " 2755,\n",
              " 2760,\n",
              " 2765,\n",
              " 2770,\n",
              " 2775,\n",
              " 2780,\n",
              " 2785,\n",
              " 2790,\n",
              " 2795,\n",
              " 2800,\n",
              " 2805,\n",
              " 2810,\n",
              " 2815,\n",
              " 2820,\n",
              " 2825,\n",
              " 2830,\n",
              " 2835,\n",
              " 2840,\n",
              " 2845,\n",
              " 2850,\n",
              " 2855,\n",
              " 2860,\n",
              " 2865,\n",
              " 2870,\n",
              " 2875,\n",
              " 2880,\n",
              " 2885,\n",
              " 2890,\n",
              " 2895,\n",
              " 2900,\n",
              " 2905,\n",
              " 2910,\n",
              " 2915,\n",
              " 2920,\n",
              " 2925,\n",
              " 2930,\n",
              " 2935,\n",
              " 2940,\n",
              " 2945,\n",
              " 2950,\n",
              " 2955,\n",
              " 2960,\n",
              " 2965,\n",
              " 2970,\n",
              " 2975,\n",
              " 2980,\n",
              " 2985,\n",
              " 2990,\n",
              " 2995,\n",
              " 3000,\n",
              " 3005,\n",
              " 3010,\n",
              " 3015,\n",
              " 3020,\n",
              " 3025,\n",
              " 3030,\n",
              " 3035,\n",
              " 3040,\n",
              " 3045,\n",
              " 3050,\n",
              " 3055,\n",
              " 3060,\n",
              " 3065,\n",
              " 3070,\n",
              " 3075,\n",
              " 3080,\n",
              " 3085,\n",
              " 3090,\n",
              " 3095,\n",
              " 3100,\n",
              " 3105,\n",
              " 3110,\n",
              " 3115,\n",
              " 3120,\n",
              " 3125,\n",
              " 3130,\n",
              " 3135,\n",
              " 3140,\n",
              " 3145,\n",
              " 3150,\n",
              " 3155,\n",
              " 3160,\n",
              " 3165,\n",
              " 3170,\n",
              " 3175,\n",
              " 3180,\n",
              " 3185,\n",
              " 3190,\n",
              " 3195,\n",
              " 3200,\n",
              " 3205,\n",
              " 3210,\n",
              " 3215,\n",
              " 3220,\n",
              " 3225,\n",
              " 3230,\n",
              " 3235,\n",
              " 3240,\n",
              " 3245,\n",
              " 3250,\n",
              " 3255,\n",
              " 3260,\n",
              " 3265,\n",
              " 3270,\n",
              " 3275,\n",
              " 3280,\n",
              " 3285,\n",
              " 3290,\n",
              " 3295,\n",
              " 3300,\n",
              " 3305,\n",
              " 3310,\n",
              " 3315,\n",
              " 3320,\n",
              " 3325,\n",
              " 3330,\n",
              " 3335,\n",
              " 3340,\n",
              " 3345,\n",
              " 3350,\n",
              " 3355,\n",
              " 3360,\n",
              " 3365,\n",
              " 3370,\n",
              " 3375,\n",
              " 3380,\n",
              " 3385,\n",
              " 3390,\n",
              " 3395,\n",
              " 3400,\n",
              " 3405,\n",
              " 3410,\n",
              " 3415,\n",
              " 3420,\n",
              " 3425,\n",
              " 3430,\n",
              " 3435,\n",
              " 3440,\n",
              " 3445,\n",
              " 3450,\n",
              " 3455,\n",
              " 3460,\n",
              " 3465,\n",
              " 3470,\n",
              " 3475,\n",
              " 3480,\n",
              " 3485,\n",
              " 3490,\n",
              " 3495,\n",
              " 3500,\n",
              " 3505,\n",
              " 3510,\n",
              " 3515,\n",
              " 3520,\n",
              " 3525,\n",
              " 3530,\n",
              " 3535,\n",
              " 3540,\n",
              " 3545,\n",
              " 3550,\n",
              " 3555,\n",
              " 3560,\n",
              " 3565,\n",
              " 3570,\n",
              " 3575,\n",
              " 3580,\n",
              " 3585,\n",
              " 3590,\n",
              " 3595,\n",
              " 3600,\n",
              " 3605,\n",
              " 3610,\n",
              " 3615,\n",
              " 3620,\n",
              " 3625,\n",
              " 3630,\n",
              " 3635,\n",
              " 3640,\n",
              " 3645,\n",
              " 3650,\n",
              " 3655,\n",
              " 3660,\n",
              " 3665,\n",
              " 3670,\n",
              " 3675,\n",
              " 3680,\n",
              " 3685,\n",
              " 3690,\n",
              " 3695,\n",
              " 3700,\n",
              " 3705,\n",
              " 3710,\n",
              " 3715,\n",
              " 3720,\n",
              " 3725,\n",
              " 3730,\n",
              " 3735,\n",
              " 3740,\n",
              " 3745,\n",
              " 3750,\n",
              " 3755,\n",
              " 3760,\n",
              " 3765,\n",
              " 3770,\n",
              " 3775,\n",
              " 3780,\n",
              " 3785,\n",
              " 3790,\n",
              " 3795,\n",
              " 3800,\n",
              " 3805,\n",
              " 3810,\n",
              " 3815,\n",
              " 3820,\n",
              " 3825,\n",
              " 3830,\n",
              " 3835,\n",
              " 3840,\n",
              " 3845,\n",
              " 3850,\n",
              " 3855,\n",
              " 3860,\n",
              " 3865,\n",
              " 3870,\n",
              " 3875,\n",
              " 3880,\n",
              " 3885,\n",
              " 3890,\n",
              " 3895,\n",
              " 3900,\n",
              " 3905,\n",
              " 3910,\n",
              " 3915,\n",
              " 3920,\n",
              " 3925,\n",
              " 3930,\n",
              " 3935,\n",
              " 3940,\n",
              " 3945,\n",
              " 3950,\n",
              " 3955,\n",
              " 3960,\n",
              " 3965,\n",
              " 3970,\n",
              " 3975,\n",
              " 3980,\n",
              " 3985,\n",
              " 3990,\n",
              " 3995,\n",
              " 4000,\n",
              " 4005,\n",
              " 4010,\n",
              " 4015,\n",
              " 4020,\n",
              " 4025,\n",
              " 4030,\n",
              " 4035,\n",
              " 4040,\n",
              " 4045,\n",
              " 4050,\n",
              " 4055,\n",
              " 4060,\n",
              " 4065,\n",
              " 4070,\n",
              " 4075,\n",
              " 4080,\n",
              " 4085,\n",
              " 4090,\n",
              " 4095,\n",
              " 4100,\n",
              " 4105,\n",
              " 4110,\n",
              " 4115,\n",
              " 4120,\n",
              " 4125,\n",
              " 4130,\n",
              " 4135,\n",
              " 4140,\n",
              " 4145,\n",
              " 4150,\n",
              " 4155,\n",
              " 4160,\n",
              " 4165,\n",
              " 4170,\n",
              " 4175,\n",
              " 4180,\n",
              " 4185,\n",
              " 4190,\n",
              " 4195,\n",
              " 4200,\n",
              " 4205,\n",
              " 4210,\n",
              " 4215,\n",
              " 4220,\n",
              " 4225,\n",
              " 4230,\n",
              " 4235,\n",
              " 4240,\n",
              " 4245,\n",
              " 4250,\n",
              " 4255,\n",
              " 4260,\n",
              " 4265,\n",
              " 4270,\n",
              " 4275,\n",
              " 4280,\n",
              " 4285,\n",
              " 4290,\n",
              " 4295,\n",
              " 4300,\n",
              " 4305,\n",
              " 4310,\n",
              " 4315,\n",
              " 4320,\n",
              " 4325,\n",
              " 4330,\n",
              " 4335,\n",
              " 4340,\n",
              " 4345,\n",
              " 4350,\n",
              " 4355,\n",
              " 4360,\n",
              " 4365,\n",
              " 4370,\n",
              " 4375,\n",
              " 4380,\n",
              " 4385,\n",
              " 4390,\n",
              " 4395,\n",
              " 4400,\n",
              " 4405,\n",
              " 4410,\n",
              " 4415,\n",
              " 4420,\n",
              " 4425,\n",
              " 4430,\n",
              " 4435,\n",
              " 4440,\n",
              " 4445,\n",
              " 4450,\n",
              " 4455,\n",
              " 4460,\n",
              " 4465,\n",
              " 4470,\n",
              " 4475,\n",
              " 4480,\n",
              " 4485,\n",
              " 4490,\n",
              " 4495,\n",
              " 4500,\n",
              " 4505,\n",
              " 4510,\n",
              " 4515,\n",
              " 4520,\n",
              " 4525,\n",
              " 4530,\n",
              " 4535,\n",
              " 4540,\n",
              " 4545,\n",
              " 4550,\n",
              " 4555,\n",
              " 4560,\n",
              " 4565,\n",
              " 4570,\n",
              " 4575,\n",
              " 4580,\n",
              " 4585,\n",
              " 4590,\n",
              " 4595,\n",
              " 4600,\n",
              " 4605,\n",
              " 4610,\n",
              " 4615,\n",
              " 4620,\n",
              " 4625,\n",
              " 4630,\n",
              " 4635,\n",
              " 4640,\n",
              " 4645,\n",
              " 4650,\n",
              " 4655,\n",
              " 4660,\n",
              " 4665,\n",
              " 4670,\n",
              " 4675,\n",
              " 4680,\n",
              " 4685,\n",
              " 4690,\n",
              " 4695,\n",
              " 4700,\n",
              " 4705,\n",
              " 4710,\n",
              " 4715,\n",
              " 4720,\n",
              " 4725,\n",
              " 4730,\n",
              " 4735,\n",
              " 4740,\n",
              " 4745,\n",
              " 4750,\n",
              " 4755,\n",
              " 4760,\n",
              " 4765,\n",
              " 4770,\n",
              " 4775,\n",
              " 4780,\n",
              " 4785,\n",
              " 4790,\n",
              " 4795,\n",
              " 4800,\n",
              " 4805,\n",
              " 4810,\n",
              " 4815,\n",
              " 4820,\n",
              " 4825,\n",
              " 4830,\n",
              " 4835,\n",
              " 4840,\n",
              " 4845,\n",
              " 4850,\n",
              " 4855,\n",
              " 4860,\n",
              " 4865,\n",
              " 4870,\n",
              " 4875,\n",
              " 4880,\n",
              " 4885,\n",
              " 4890,\n",
              " 4895,\n",
              " 4900,\n",
              " 4905,\n",
              " 4910,\n",
              " 4915,\n",
              " 4920,\n",
              " 4925,\n",
              " 4930,\n",
              " 4935,\n",
              " 4940,\n",
              " 4945,\n",
              " 4950,\n",
              " 4955,\n",
              " 4960,\n",
              " 4965,\n",
              " 4970,\n",
              " 4975,\n",
              " 4980,\n",
              " 4985,\n",
              " 4990,\n",
              " 4995,\n",
              " ...]"
            ]
          },
          "metadata": {},
          "execution_count": 24
        }
      ],
      "source": [
        "fives_list = list(range(0,5001,5))\n",
        "fives_list"
      ]
    },
    {
      "cell_type": "code",
      "execution_count": 20,
      "metadata": {
        "id": "13---Nbif3um",
        "colab": {
          "base_uri": "https://localhost:8080/"
        },
        "outputId": "09320f64-9f13-4779-d5ae-0fd26bd8d4f9"
      },
      "outputs": [
        {
          "output_type": "execute_result",
          "data": {
            "text/plain": [
              "array([   0,    5,   10, ..., 4990, 4995, 5000])"
            ]
          },
          "metadata": {},
          "execution_count": 20
        }
      ],
      "source": [
        "five_times_table_lge = np.arange(0,5001,5)\n",
        "five_times_table_lge"
      ]
    },
    {
      "cell_type": "code",
      "execution_count": 25,
      "metadata": {
        "id": "CHCXdIkCf3uo",
        "colab": {
          "base_uri": "https://localhost:8080/"
        },
        "outputId": "ad903290-1f00-452a-f639-7891c29f3717"
      },
      "outputs": [
        {
          "output_type": "stream",
          "name": "stdout",
          "text": [
            "1.33 µs ± 11.2 ns per loop (mean ± std. dev. of 7 runs, 1000000 loops each)\n"
          ]
        }
      ],
      "source": [
        "%timeit five_times_table_lge + 5"
      ]
    },
    {
      "cell_type": "code",
      "execution_count": 22,
      "metadata": {
        "id": "64lRN5Pkf3uo",
        "colab": {
          "base_uri": "https://localhost:8080/"
        },
        "outputId": "906eb78f-d695-4565-ecea-bcac6f065d47"
      },
      "outputs": [
        {
          "output_type": "stream",
          "name": "stdout",
          "text": [
            "59.9 µs ± 811 ns per loop (mean ± std. dev. of 7 runs, 10000 loops each)\n"
          ]
        }
      ],
      "source": [
        "%timeit [e + 5 for e in fives_list]"
      ]
    },
    {
      "cell_type": "markdown",
      "metadata": {
        "id": "AyUO-heQf3up"
      },
      "source": [
        "Boolean string operations can also be performed on nparrays."
      ]
    },
    {
      "cell_type": "code",
      "execution_count": 29,
      "metadata": {
        "id": "V4b9v5dnf3up",
        "colab": {
          "base_uri": "https://localhost:8080/"
        },
        "outputId": "88d7d168-cd10-4ae8-85b5-ef4b8cccd791"
      },
      "outputs": [
        {
          "output_type": "stream",
          "name": "stdout",
          "text": [
            "[False False False False False]\n",
            "False\n"
          ]
        },
        {
          "output_type": "execute_result",
          "data": {
            "text/plain": [
              "[True, True, True, True, False]"
            ]
          },
          "metadata": {},
          "execution_count": 29
        }
      ],
      "source": [
        "words = np.array([\"ten\", \"nine\", \"eight\", \"seven\", \"six\"])\n",
        "\n",
        "print(np.isin(words, 'e'))\n",
        "print(\"e\" in words)\n",
        "[\"e\" in word for word in words]\n",
        "\n"
      ]
    },
    {
      "cell_type": "markdown",
      "metadata": {
        "id": "KoR2-UOMf3uq"
      },
      "source": [
        "# Transpose"
      ]
    },
    {
      "cell_type": "code",
      "execution_count": 30,
      "metadata": {
        "id": "aSSkwP3Vf3uq",
        "colab": {
          "base_uri": "https://localhost:8080/"
        },
        "outputId": "fdd35622-889a-420a-b6bd-dc3515c1e5a9"
      },
      "outputs": [
        {
          "output_type": "stream",
          "name": "stdout",
          "text": [
            "[[10  5  8 32 65 43]\n",
            " [32 18 26 60 55 65]] \n",
            "\n",
            "[[10 32]\n",
            " [ 5 18]\n",
            " [ 8 26]\n",
            " [32 60]\n",
            " [65 55]\n",
            " [43 65]]\n"
          ]
        }
      ],
      "source": [
        "people.shape = (2, 6)\n",
        "print(people, \"\\n\")\n",
        "print(people.T)"
      ]
    },
    {
      "cell_type": "markdown",
      "metadata": {
        "id": "CqIkjQiIf3uq"
      },
      "source": [
        "# Data Types"
      ]
    },
    {
      "cell_type": "markdown",
      "metadata": {
        "id": "BPKvj0-Rf3ur"
      },
      "source": [
        "As previously mentioned, ndarrays can only have one data type. If we want to obtain or change this, we use the `.dtype` attribute."
      ]
    },
    {
      "cell_type": "code",
      "execution_count": 31,
      "metadata": {
        "id": "AsE70TWOf3ur",
        "colab": {
          "base_uri": "https://localhost:8080/"
        },
        "outputId": "a9900d49-33db-46e6-b28e-043ee039b6a1"
      },
      "outputs": [
        {
          "output_type": "execute_result",
          "data": {
            "text/plain": [
              "dtype('int64')"
            ]
          },
          "metadata": {},
          "execution_count": 31
        }
      ],
      "source": [
        "people.dtype"
      ]
    },
    {
      "cell_type": "markdown",
      "metadata": {
        "id": "MGca2Ugaf3ur"
      },
      "source": [
        "What is the data type of the below ndarray?"
      ]
    },
    {
      "cell_type": "code",
      "execution_count": 36,
      "metadata": {
        "id": "kGAMal70f3ur",
        "colab": {
          "base_uri": "https://localhost:8080/"
        },
        "outputId": "4a57c80d-4836-4177-e752-4612c9e8a4cb"
      },
      "outputs": [
        {
          "output_type": "execute_result",
          "data": {
            "text/plain": [
              "dtype('<U21')"
            ]
          },
          "metadata": {},
          "execution_count": 36
        }
      ],
      "source": [
        "ages_with_strings = np.array([10, 5, 8, '32', '65', '43'])\n",
        "ages_with_strings\n",
        "\n",
        "ages_with_strings.dtype"
      ]
    },
    {
      "cell_type": "markdown",
      "metadata": {
        "id": "2Z58LyVif3us"
      },
      "source": [
        "What is the dtype of this array?"
      ]
    },
    {
      "cell_type": "code",
      "execution_count": 37,
      "metadata": {
        "id": "ZrGfLR3ef3us",
        "colab": {
          "base_uri": "https://localhost:8080/"
        },
        "outputId": "a703019a-64f5-4e3d-c5c9-b82fdeb7912b"
      },
      "outputs": [
        {
          "output_type": "execute_result",
          "data": {
            "text/plain": [
              "dtype('int32')"
            ]
          },
          "metadata": {},
          "execution_count": 37
        }
      ],
      "source": [
        "ages_with_strings = np.array([10, 5, 8, '32', '65', '43'], dtype='int32')\n",
        "ages_with_strings\n",
        "\n",
        "ages_with_strings.dtype"
      ]
    },
    {
      "cell_type": "markdown",
      "metadata": {
        "id": "mgMHfnvUf3us"
      },
      "source": [
        "What do you think has happened here?"
      ]
    },
    {
      "cell_type": "markdown",
      "source": [
        "The list has both integer and string values but while using np.array(list) all the values are denoted as string"
      ],
      "metadata": {
        "id": "CYmqqYlGidvd"
      }
    },
    {
      "cell_type": "code",
      "execution_count": 44,
      "metadata": {
        "id": "Lv7PVSLAf3ut",
        "colab": {
          "base_uri": "https://localhost:8080/"
        },
        "outputId": "9e94b150-bff2-47df-c3b6-837004427aa4"
      },
      "outputs": [
        {
          "output_type": "stream",
          "name": "stdout",
          "text": [
            "['10' '5' '8' '32' '65' '43']\n"
          ]
        }
      ],
      "source": [
        "ages_with_strings = np.array([10, 5, 8, '32', '65', '43'])\n",
        "print(ages_with_strings)\n"
      ]
    },
    {
      "cell_type": "markdown",
      "source": [
        "here we changing the datatype of ages_with_strings as 'int32'"
      ],
      "metadata": {
        "id": "KBvwWzKplOqo"
      }
    },
    {
      "cell_type": "code",
      "execution_count": 38,
      "metadata": {
        "id": "CpvjCgP9f3ut",
        "colab": {
          "base_uri": "https://localhost:8080/"
        },
        "outputId": "d45305ce-1cea-4981-dccf-f2a4eef10454"
      },
      "outputs": [
        {
          "output_type": "stream",
          "name": "stdout",
          "text": [
            "[10  5  8 32 65 43]\n"
          ]
        }
      ],
      "source": [
        "ages_with_strings.dtype = 'int32'\n",
        "print(ages_with_strings)"
      ]
    },
    {
      "cell_type": "code",
      "execution_count": 45,
      "metadata": {
        "id": "bSWmYnlAf3ut",
        "colab": {
          "base_uri": "https://localhost:8080/"
        },
        "outputId": "d7d20c0b-4a78-4bab-e0c0-cb558a6834f3"
      },
      "outputs": [
        {
          "output_type": "execute_result",
          "data": {
            "text/plain": [
              "6"
            ]
          },
          "metadata": {},
          "execution_count": 45
        }
      ],
      "source": [
        "#to get the size of ages_with_strings use below code\n",
        "\n",
        "ages_with_strings.size"
      ]
    },
    {
      "cell_type": "code",
      "execution_count": 46,
      "metadata": {
        "id": "bwCcDgCrf3uu",
        "colab": {
          "base_uri": "https://localhost:8080/"
        },
        "outputId": "67960fd5-f6b6-42a1-cd1d-4c7214fc768c"
      },
      "outputs": [
        {
          "output_type": "execute_result",
          "data": {
            "text/plain": [
              "0.2857142857142857"
            ]
          },
          "metadata": {},
          "execution_count": 46
        }
      ],
      "source": [
        "# dividing the ages_with_strings.size by 21\n",
        "\n",
        "ages_with_strings.size/21"
      ]
    },
    {
      "cell_type": "code",
      "execution_count": 48,
      "metadata": {
        "id": "-iZX97C_f3uu",
        "colab": {
          "base_uri": "https://localhost:8080/"
        },
        "outputId": "133e26fc-3447-465e-d89a-dc8d39027ea4"
      },
      "outputs": [
        {
          "output_type": "execute_result",
          "data": {
            "text/plain": [
              "6"
            ]
          },
          "metadata": {},
          "execution_count": 48
        }
      ],
      "source": [
        "np.array([10, 5, 8, '32', '65', '43']).size"
      ]
    },
    {
      "cell_type": "markdown",
      "metadata": {
        "id": "Y3zu38gaf3uu"
      },
      "source": [
        "The correct way to have changed the data type of the ndarray would have been to use the `.astype()` method, demonstrated below."
      ]
    },
    {
      "cell_type": "code",
      "execution_count": 49,
      "metadata": {
        "id": "6E4Y3ydff3uv",
        "colab": {
          "base_uri": "https://localhost:8080/"
        },
        "outputId": "2b935288-4c29-42f3-cb67-6b54289282b4"
      },
      "outputs": [
        {
          "output_type": "stream",
          "name": "stdout",
          "text": [
            "['10' '5' '8' '32' '65' '43']\n",
            "[10  5  8 32 65 43]\n"
          ]
        }
      ],
      "source": [
        "ages_with_strings = np.array([10, 5, 8, '32', '65', '43'])\n",
        "print(ages_with_strings)\n",
        "print(ages_with_strings.astype('int32'))"
      ]
    },
    {
      "cell_type": "markdown",
      "metadata": {
        "id": "RTVKRrttf3uv"
      },
      "source": [
        "### Exercise\n",
        "\n",
        "* #### Create an array of string numbers, but use dtype to make it an array of floats.\n",
        "* #### Transpose the matrix, printing the new size and shape.\n",
        "* #### Use the .astype() method to convert the array to boolean."
      ]
    },
    {
      "cell_type": "markdown",
      "metadata": {
        "id": "vLGkpBirf3uv"
      },
      "source": [
        "## Array Slicing Operations"
      ]
    },
    {
      "cell_type": "markdown",
      "metadata": {
        "id": "LjG3OJ9Wf3uw"
      },
      "source": [
        "As before, we can use square brackets and indices to access individual values, and the colon operator to slice the array."
      ]
    },
    {
      "cell_type": "code",
      "execution_count": 50,
      "metadata": {
        "id": "WPuV4CB4f3uw",
        "colab": {
          "base_uri": "https://localhost:8080/"
        },
        "outputId": "79ce1f16-6938-43a5-e6fb-4d9091e77a2b"
      },
      "outputs": [
        {
          "output_type": "execute_result",
          "data": {
            "text/plain": [
              "array([ 0,  5, 10, 15, 20, 25, 30, 35, 40, 45, 50])"
            ]
          },
          "metadata": {},
          "execution_count": 50
        }
      ],
      "source": [
        "five_times_table"
      ]
    },
    {
      "cell_type": "code",
      "execution_count": 51,
      "metadata": {
        "id": "T5fdjxi6f3ux",
        "colab": {
          "base_uri": "https://localhost:8080/"
        },
        "outputId": "d2905a51-d5a7-4dbc-d6f4-8b364ba75174"
      },
      "outputs": [
        {
          "output_type": "execute_result",
          "data": {
            "text/plain": [
              "0"
            ]
          },
          "metadata": {},
          "execution_count": 51
        }
      ],
      "source": [
        "five_times_table[0]"
      ]
    },
    {
      "cell_type": "code",
      "execution_count": 52,
      "metadata": {
        "scrolled": true,
        "id": "k97stSEJf3ux",
        "colab": {
          "base_uri": "https://localhost:8080/"
        },
        "outputId": "ed25c032-c944-438a-ff37-1b720caac318"
      },
      "outputs": [
        {
          "output_type": "execute_result",
          "data": {
            "text/plain": [
              "50"
            ]
          },
          "metadata": {},
          "execution_count": 52
        }
      ],
      "source": [
        "five_times_table[-1]"
      ]
    },
    {
      "cell_type": "code",
      "execution_count": 53,
      "metadata": {
        "id": "mYxvyxMif3ux",
        "colab": {
          "base_uri": "https://localhost:8080/"
        },
        "outputId": "9f398a07-af6a-4125-e584-aeaf4c60f089"
      },
      "outputs": [
        {
          "output_type": "execute_result",
          "data": {
            "text/plain": [
              "array([ 0,  5, 10, 15])"
            ]
          },
          "metadata": {},
          "execution_count": 53
        }
      ],
      "source": [
        "five_times_table[:4]"
      ]
    },
    {
      "cell_type": "code",
      "execution_count": 54,
      "metadata": {
        "id": "W7cXp5L9f3uy",
        "colab": {
          "base_uri": "https://localhost:8080/"
        },
        "outputId": "01a50b2e-eb12-43ad-c5bd-9bb3d2a236d6"
      },
      "outputs": [
        {
          "output_type": "execute_result",
          "data": {
            "text/plain": [
              "array([20, 25, 30, 35, 40, 45, 50])"
            ]
          },
          "metadata": {},
          "execution_count": 54
        }
      ],
      "source": [
        "five_times_table[4:]"
      ]
    },
    {
      "cell_type": "markdown",
      "metadata": {
        "id": "-QHfQhXff3uy"
      },
      "source": [
        "We can also slice an n-dim ndarray., specifying the slice operation accross each axis."
      ]
    },
    {
      "cell_type": "code",
      "execution_count": 55,
      "metadata": {
        "id": "SFk0RoW2f3uz",
        "colab": {
          "base_uri": "https://localhost:8080/"
        },
        "outputId": "e32ca3a6-09c9-43c7-bd7c-2a8fcfa94ad1"
      },
      "outputs": [
        {
          "output_type": "stream",
          "name": "stdout",
          "text": [
            "[[10  5  8 32 65 43]\n",
            " [32 18 26 60 55 65]]\n"
          ]
        },
        {
          "output_type": "execute_result",
          "data": {
            "text/plain": [
              "array([[10,  5,  8],\n",
              "       [32, 18, 26]])"
            ]
          },
          "metadata": {},
          "execution_count": 55
        }
      ],
      "source": [
        "print(people)\n",
        "people[:3, :3]"
      ]
    },
    {
      "cell_type": "markdown",
      "metadata": {
        "id": "BLsdDPqff3uz"
      },
      "source": [
        "### Exercise\n",
        "\n",
        "* Create a numpy array with 50 zeros\n",
        "* Create a np array of 2 repeated 20 times\n",
        "* Create a numpy array from 0 to 2 $\\pi$ in steps of 0.1\n",
        "\n",
        "For one of the arrays generated:\n",
        "* Get the first five values\n",
        "* Get the last 3 values\n",
        "* Get the 4th value to the 7th value"
      ]
    },
    {
      "cell_type": "markdown",
      "metadata": {
        "id": "EmHEeElBf3u0"
      },
      "source": [
        "We can reverse an array by using `.flip()` or by using the `::` operator."
      ]
    },
    {
      "cell_type": "code",
      "execution_count": 56,
      "metadata": {
        "id": "JIgZ-Q70f3u1",
        "colab": {
          "base_uri": "https://localhost:8080/"
        },
        "outputId": "1eb40d77-4822-4e11-dc73-ca1efa1c00de"
      },
      "outputs": [
        {
          "output_type": "execute_result",
          "data": {
            "text/plain": [
              "array([50, 45, 40, 35, 30, 25, 20, 15, 10,  5,  0])"
            ]
          },
          "metadata": {},
          "execution_count": 56
        }
      ],
      "source": [
        "reverse_five_times_table = np.flip(five_times_table)\n",
        "reverse_five_times_table"
      ]
    },
    {
      "cell_type": "code",
      "execution_count": 57,
      "metadata": {
        "id": "Tpbh3aBwf3u1",
        "colab": {
          "base_uri": "https://localhost:8080/"
        },
        "outputId": "37353a8d-e5b4-4b91-a9c0-8e2203222b6a"
      },
      "outputs": [
        {
          "output_type": "stream",
          "name": "stdout",
          "text": [
            "[50 45 40 35 30 25 20 15 10  5  0]\n"
          ]
        },
        {
          "output_type": "execute_result",
          "data": {
            "text/plain": [
              "array([ 0,  5, 10, 15, 20, 25, 30, 35, 40, 45, 50])"
            ]
          },
          "metadata": {},
          "execution_count": 57
        }
      ],
      "source": [
        "reverse_five_times_table = five_times_table[-1::-1]\n",
        "print(reverse_five_times_table)\n",
        "five_times_table"
      ]
    },
    {
      "cell_type": "markdown",
      "metadata": {
        "id": "Uv-5I5nUf3u2"
      },
      "source": [
        "We can also use the `::` operator to select steps of the original array."
      ]
    },
    {
      "cell_type": "code",
      "execution_count": 58,
      "metadata": {
        "id": "6_0dSK9Gf3u2",
        "colab": {
          "base_uri": "https://localhost:8080/"
        },
        "outputId": "d6aededb-5aff-4e80-a4b8-bbed72aa80b0"
      },
      "outputs": [
        {
          "output_type": "execute_result",
          "data": {
            "text/plain": [
              "array([ 0, 15, 30, 45])"
            ]
          },
          "metadata": {},
          "execution_count": 58
        }
      ],
      "source": [
        "five_times_table[0::3] #Every 3rd element starting from 0"
      ]
    },
    {
      "cell_type": "markdown",
      "metadata": {
        "id": "BDBsCMWqf3u2"
      },
      "source": [
        "### Exercise\n",
        "Take one of the arrays you defined and\n",
        "* #### Reverse it\n",
        "* #### Only keep every 4th element.\n",
        "* #### Get every 2nd element, starting from the last and moving backwards."
      ]
    },
    {
      "cell_type": "markdown",
      "metadata": {
        "id": "BxtmKeXff3u3"
      },
      "source": [
        "# Stats"
      ]
    },
    {
      "cell_type": "code",
      "execution_count": null,
      "metadata": {
        "id": "tfo0t9f9f3u3"
      },
      "outputs": [],
      "source": [
        "np.array([1.65432, 5.98765]).round(2)"
      ]
    },
    {
      "cell_type": "code",
      "execution_count": 60,
      "metadata": {
        "id": "9Sz__aMFf3u4"
      },
      "outputs": [],
      "source": [
        "nums = np.arange(0, 4, 0.2555)"
      ]
    },
    {
      "cell_type": "markdown",
      "metadata": {
        "id": "3kV0k9axf3u7"
      },
      "source": [
        "### Exercise\n",
        "\n",
        "* Compute min, max, sum, mean, median, variance, and standard deviation of the above array, all to to 2 decimal places."
      ]
    },
    {
      "cell_type": "code",
      "execution_count": 61,
      "metadata": {
        "id": "oyYkdGucf3vF",
        "colab": {
          "base_uri": "https://localhost:8080/"
        },
        "outputId": "ddc13bc7-c58c-4abc-e807-f97fe523e4e9"
      },
      "outputs": [
        {
          "output_type": "stream",
          "name": "stdout",
          "text": [
            "min =  0.0\n",
            "max =  3.83\n",
            "sum =  30.66\n",
            "mean =  1.92\n",
            "median =  1.92\n",
            "var =  1.39\n",
            "std =  1.18\n"
          ]
        }
      ],
      "source": [
        "print(\"min = \", np.min(nums).round(2))\n",
        "print(\"max = \", np.max(nums).round(2))\n",
        "print(\"sum = \", np.sum(nums).round(2))\n",
        "print(\"mean = \", np.mean(nums).round(2))\n",
        "print(\"median = \", np.median(nums).round(2))\n",
        "print(\"var = \", np.var(nums).round(2))\n",
        "print(\"std = \", np.std(nums).round(2))"
      ]
    },
    {
      "cell_type": "markdown",
      "metadata": {
        "id": "dlvWo9jaf3vX"
      },
      "source": [
        "## Random"
      ]
    },
    {
      "cell_type": "markdown",
      "metadata": {
        "id": "6YZdTD9Af3vc"
      },
      "source": [
        "With `np.random`, we can generate a number of types of dataset, and create training data.\n",
        "\n",
        "The below code simulates a fair coin toss."
      ]
    },
    {
      "cell_type": "code",
      "execution_count": 62,
      "metadata": {
        "id": "zp9e2bvJf3vt",
        "colab": {
          "base_uri": "https://localhost:8080/"
        },
        "outputId": "e963a922-888f-4d3e-e1e4-30b25257c751"
      },
      "outputs": [
        {
          "output_type": "execute_result",
          "data": {
            "text/plain": [
              "array([1, 0, 1, 1, 0, 0, 1, 1, 1, 1])"
            ]
          },
          "metadata": {},
          "execution_count": 62
        }
      ],
      "source": [
        "flip = np.random.choice([0,1], 10)\n",
        "flip"
      ]
    },
    {
      "cell_type": "code",
      "execution_count": 63,
      "metadata": {
        "id": "M30nhJSFf3vu",
        "colab": {
          "base_uri": "https://localhost:8080/"
        },
        "outputId": "f6ee4920-0d6b-4cd3-e18d-a167a25ba874"
      },
      "outputs": [
        {
          "output_type": "execute_result",
          "data": {
            "text/plain": [
              "array([[[0.99244933, 0.61797465, 0.41323336, ..., 0.6880285 ,\n",
              "         0.4604185 , 0.30216492],\n",
              "        [0.2113473 , 0.70842328, 0.63251394, ..., 0.56340431,\n",
              "         0.27151761, 0.13691359],\n",
              "        [0.2964996 , 0.78596904, 0.02237397, ..., 0.73342803,\n",
              "         0.76363133, 0.82171924],\n",
              "        ...,\n",
              "        [0.62975411, 0.9263781 , 0.77114471, ..., 0.29202795,\n",
              "         0.1416982 , 0.59476071],\n",
              "        [0.95602754, 0.85799835, 0.50707486, ..., 0.90152558,\n",
              "         0.1951288 , 0.99299216],\n",
              "        [0.97321514, 0.35224817, 0.38334955, ..., 0.86256082,\n",
              "         0.39305718, 0.91565697]],\n",
              "\n",
              "       [[0.89967124, 0.92631695, 0.59010594, ..., 0.43589446,\n",
              "         0.29439865, 0.58097836],\n",
              "        [0.4665638 , 0.10556851, 0.01739561, ..., 0.37399234,\n",
              "         0.8067209 , 0.06168724],\n",
              "        [0.96028521, 0.54369633, 0.81856663, ..., 0.13439903,\n",
              "         0.53024081, 0.32057451],\n",
              "        ...,\n",
              "        [0.64724086, 0.37694623, 0.71600691, ..., 0.97586348,\n",
              "         0.76935039, 0.77395875],\n",
              "        [0.97316082, 0.62684224, 0.86315852, ..., 0.80825982,\n",
              "         0.58140077, 0.31496325],\n",
              "        [0.59630082, 0.05967213, 0.66494652, ..., 0.63897307,\n",
              "         0.69280938, 0.87734631]],\n",
              "\n",
              "       [[0.09887642, 0.50009818, 0.0737164 , ..., 0.40738868,\n",
              "         0.80993167, 0.52152146],\n",
              "        [0.87827175, 0.46696865, 0.36608794, ..., 0.39619114,\n",
              "         0.54220248, 0.1889571 ],\n",
              "        [0.02474297, 0.97464907, 0.97443738, ..., 0.75589373,\n",
              "         0.09173958, 0.9027804 ],\n",
              "        ...,\n",
              "        [0.82871968, 0.53574144, 0.7334799 , ..., 0.99812163,\n",
              "         0.06305959, 0.27761694],\n",
              "        [0.87815826, 0.76666397, 0.19847138, ..., 0.56352304,\n",
              "         0.94473177, 0.595322  ],\n",
              "        [0.25308065, 0.15119394, 0.83952403, ..., 0.61027379,\n",
              "         0.4652141 , 0.25706978]],\n",
              "\n",
              "       ...,\n",
              "\n",
              "       [[0.93888486, 0.70113119, 0.36637698, ..., 0.95781593,\n",
              "         0.42917702, 0.1103609 ],\n",
              "        [0.53265318, 0.33895588, 0.52317025, ..., 0.02395247,\n",
              "         0.9633072 , 0.61462886],\n",
              "        [0.73376596, 0.34594427, 0.05948597, ..., 0.72331954,\n",
              "         0.70163846, 0.18747329],\n",
              "        ...,\n",
              "        [0.38020561, 0.93024871, 0.57807378, ..., 0.2142974 ,\n",
              "         0.65169255, 0.41934693],\n",
              "        [0.43737714, 0.37408797, 0.10326082, ..., 0.30976186,\n",
              "         0.98260838, 0.93511866],\n",
              "        [0.24703839, 0.98551685, 0.215239  , ..., 0.9960693 ,\n",
              "         0.59062204, 0.30629559]],\n",
              "\n",
              "       [[0.96490476, 0.54209176, 0.25453058, ..., 0.12311935,\n",
              "         0.30190005, 0.20622655],\n",
              "        [0.25186736, 0.44609114, 0.77408943, ..., 0.13871072,\n",
              "         0.699998  , 0.93748781],\n",
              "        [0.58098908, 0.93705891, 0.7153971 , ..., 0.37655823,\n",
              "         0.78486215, 0.98792851],\n",
              "        ...,\n",
              "        [0.23570065, 0.14946015, 0.18216498, ..., 0.64443226,\n",
              "         0.50311019, 0.3876984 ],\n",
              "        [0.86004168, 0.06443018, 0.18588997, ..., 0.65467467,\n",
              "         0.35899695, 0.89439316],\n",
              "        [0.5077917 , 0.08038627, 0.84472215, ..., 0.28948274,\n",
              "         0.11553634, 0.88968253]],\n",
              "\n",
              "       [[0.77726581, 0.12469439, 0.47737209, ..., 0.70182935,\n",
              "         0.46854646, 0.41966238],\n",
              "        [0.16551281, 0.83631042, 0.81054249, ..., 0.27414027,\n",
              "         0.07382461, 0.32036627],\n",
              "        [0.02260528, 0.5816175 , 0.04189104, ..., 0.40279733,\n",
              "         0.70776506, 0.82049573],\n",
              "        ...,\n",
              "        [0.86759347, 0.74407908, 0.5632932 , ..., 0.04359025,\n",
              "         0.94165843, 0.52256729],\n",
              "        [0.69943264, 0.3769866 , 0.16001102, ..., 0.2277225 ,\n",
              "         0.78427544, 0.62206762],\n",
              "        [0.21324853, 0.14540264, 0.9564161 , ..., 0.91381123,\n",
              "         0.95691164, 0.56863861]]])"
            ]
          },
          "metadata": {},
          "execution_count": 63
        }
      ],
      "source": [
        "np.random.rand(10,20,9)"
      ]
    },
    {
      "cell_type": "markdown",
      "metadata": {
        "id": "R3aOgO_of3vu"
      },
      "source": [
        "We can produce 1000 datapoints of a normally distributed data set by using `np.random.normal()`"
      ]
    },
    {
      "cell_type": "code",
      "execution_count": 66,
      "metadata": {
        "id": "QvcXsQgvf3vv",
        "colab": {
          "base_uri": "https://localhost:8080/"
        },
        "outputId": "1659c334-e431-4854-9536-a4c257614697"
      },
      "outputs": [
        {
          "output_type": "execute_result",
          "data": {
            "text/plain": [
              "array([ 1.16259022e-02,  2.23178524e-02, -6.48319565e-02,  2.65170350e-02,\n",
              "       -1.24560063e-01, -7.55949284e-02, -4.20196212e-03, -1.18729508e-01,\n",
              "       -1.26957930e-01,  2.95152038e-02, -4.19871244e-02, -2.16846274e-02,\n",
              "       -6.90897860e-02,  4.72112364e-02,  5.52137344e-02, -5.94842896e-02,\n",
              "       -1.80964199e-02, -2.08444421e-01, -9.35179551e-02,  7.15399115e-02,\n",
              "        2.25978970e-01, -4.64010577e-02,  2.89282540e-02,  1.66999393e-02,\n",
              "        4.80769078e-02, -2.18532052e-02, -5.84030059e-02,  1.14955050e-02,\n",
              "        3.39191454e-03,  8.66405039e-02,  9.40177233e-02, -1.56377573e-01,\n",
              "       -6.76847727e-02,  2.56169092e-02,  1.37618223e-01, -2.12799650e-01,\n",
              "        1.06407789e-01, -1.80269472e-02, -8.68921890e-02,  5.42842100e-02,\n",
              "       -1.38608856e-01,  3.82765309e-02,  1.49985395e-02, -5.66075262e-02,\n",
              "       -4.44743195e-02,  1.36461798e-01,  1.12421132e-02,  1.51567247e-01,\n",
              "        1.19771887e-01,  1.97257535e-02, -1.85124165e-02, -6.34536836e-02,\n",
              "       -3.96984971e-02,  2.66904623e-02, -4.74010565e-02, -1.69520487e-02,\n",
              "       -7.57819656e-02,  4.88436856e-02, -2.84806778e-02,  4.65185262e-02,\n",
              "        4.69617999e-02, -6.57417051e-02,  3.95244075e-02,  2.85764066e-02,\n",
              "       -5.04557601e-02, -1.52068004e-01,  3.58517993e-02, -3.70760032e-02,\n",
              "        8.58860168e-02,  5.13545988e-02, -9.46670673e-02, -8.22010356e-02,\n",
              "        2.96196531e-02,  8.71776316e-02,  6.10531430e-02,  1.64735456e-03,\n",
              "        1.07359222e-01, -2.16583378e-02,  1.61560801e-01,  4.73439274e-02,\n",
              "       -4.03173226e-02,  3.17444761e-02, -1.53138701e-01, -4.77242266e-02,\n",
              "       -8.89813758e-02, -1.66936869e-01,  1.28196516e-01,  9.27311026e-02,\n",
              "       -2.10388634e-02, -6.31850093e-02, -2.81359409e-01,  8.31059291e-02,\n",
              "       -8.08036744e-02,  5.60095450e-03, -8.37635469e-02,  1.71688684e-01,\n",
              "        1.86917024e-02,  1.51024243e-02,  8.10172355e-02,  5.72107737e-04,\n",
              "        2.81160148e-01, -2.09095491e-01,  1.26805837e-02, -9.11743374e-02,\n",
              "       -7.68811446e-02,  5.95347163e-02, -1.15524963e-01, -1.11091690e-02,\n",
              "        3.03901687e-02, -5.49747202e-02,  1.15099854e-01, -1.70653411e-02,\n",
              "        1.43950718e-02, -5.13542172e-02,  2.72271766e-01, -3.26057347e-02,\n",
              "        6.82111913e-02,  1.80918502e-02, -1.15074229e-01, -1.52157404e-01,\n",
              "        6.65834002e-02,  1.27487842e-01, -1.11444939e-02, -2.26847375e-02,\n",
              "        5.04798227e-03, -1.37271027e-01,  5.03228336e-02, -1.57780269e-01,\n",
              "       -3.82276588e-02, -2.02832842e-01,  5.31778615e-02,  1.40477349e-01,\n",
              "        1.88215946e-01,  5.48923414e-02, -1.03885339e-01, -1.59733908e-01,\n",
              "        3.25200873e-02, -5.19598374e-02,  1.97580319e-02,  1.86286534e-02,\n",
              "        3.81948495e-02,  9.71100642e-03,  3.98788231e-02, -6.82605865e-02,\n",
              "        2.62629841e-02,  1.17865734e-01, -1.04131205e-01,  7.10129427e-02,\n",
              "        1.51179779e-01,  7.98208743e-02,  2.57169566e-02,  7.61013785e-02,\n",
              "       -1.35097527e-02, -1.27404042e-01,  1.97867828e-02,  7.94837136e-02,\n",
              "       -1.19126239e-01, -4.31428479e-02, -1.70000760e-02, -1.25827664e-01,\n",
              "       -6.33982578e-02, -9.46221275e-02, -4.48061445e-02, -7.99499031e-02,\n",
              "       -5.99427289e-02,  4.21185642e-02, -1.19362351e-02, -1.89404033e-01,\n",
              "        5.23799466e-02, -5.40113741e-02,  1.34001640e-02, -2.05361372e-02,\n",
              "        1.57440021e-02, -2.64827418e-01,  1.79802661e-01, -3.44917496e-02,\n",
              "        1.55263262e-01, -7.34231294e-02,  2.43080314e-02,  3.34713012e-02,\n",
              "       -9.93404269e-02, -1.36260614e-01, -3.12989030e-02,  1.36927792e-02,\n",
              "        1.34764277e-01,  3.51289232e-02,  7.27622701e-04,  1.30256087e-01,\n",
              "        1.12469365e-01,  1.23938010e-01,  7.15186420e-02, -2.10649318e-02,\n",
              "        1.53179195e-01,  1.88118570e-02, -2.00077517e-01,  8.99423057e-02,\n",
              "        6.94976709e-02,  6.08027720e-02, -3.50997945e-02, -1.07941060e-01,\n",
              "        5.00049051e-02, -5.03902300e-02, -8.62659331e-02,  1.09271694e-01,\n",
              "       -3.24719340e-02, -2.57324396e-01,  1.88525662e-01, -6.04234662e-02,\n",
              "        1.08790104e-01,  1.77049089e-01, -7.13498860e-02,  1.11075744e-01,\n",
              "       -9.05957556e-02,  4.70663251e-02, -1.25525027e-02, -2.70677962e-02,\n",
              "       -8.52114197e-02,  1.70030845e-01,  6.54884995e-04,  9.70860481e-02,\n",
              "        1.10462818e-02, -3.11525604e-04, -6.71184891e-03,  1.18833707e-01,\n",
              "        1.45239471e-02, -4.41479595e-02, -9.72775663e-02,  3.30356949e-02,\n",
              "       -5.53492275e-03,  3.00347891e-02, -8.19217287e-02,  1.68318566e-02,\n",
              "       -1.49317644e-02, -6.40564161e-02,  1.12282529e-01, -8.95823931e-02,\n",
              "        7.22910610e-03, -7.20041302e-02, -4.04064318e-02,  1.10164925e-01,\n",
              "       -6.80134515e-02,  1.07350956e-01, -8.45001779e-02, -5.10358691e-02,\n",
              "       -1.59225581e-02, -1.79032700e-01,  2.07658385e-02, -4.75305768e-03,\n",
              "       -1.03885561e-02,  4.98794010e-02, -5.84214946e-02, -6.52770311e-02,\n",
              "        9.13767085e-02,  7.54179454e-02, -7.76082272e-02,  8.90599800e-02,\n",
              "        4.23247246e-02,  1.99758290e-02,  5.40277283e-02,  1.69528922e-01,\n",
              "        6.29522493e-02,  2.32930913e-03,  1.61081253e-01,  7.44208400e-02,\n",
              "       -9.03236247e-02, -4.86153781e-02, -3.66210546e-02, -2.83149336e-01,\n",
              "        9.66954883e-02, -1.77315276e-01, -1.57641088e-01, -7.70000484e-02,\n",
              "       -3.88506012e-02,  1.80457430e-01, -7.66106656e-02, -2.47950177e-02,\n",
              "        1.25020574e-01,  1.77554474e-01, -4.55528740e-02,  7.09234823e-02,\n",
              "       -7.63024598e-02,  1.12557626e-01, -8.76983677e-02,  1.85658659e-01,\n",
              "       -9.13416256e-02,  6.51335846e-02, -8.14746075e-02, -1.44854064e-01,\n",
              "       -1.72333330e-01, -8.42592193e-02, -1.01241474e-01,  2.73885304e-02,\n",
              "       -1.20550924e-01, -4.58216571e-02, -1.02492150e-01,  7.24352963e-02,\n",
              "        5.96101376e-03,  3.29283502e-02,  7.76013949e-02,  5.94980924e-02,\n",
              "       -1.48158329e-01,  1.33243795e-01, -8.37685816e-02,  7.28567780e-02,\n",
              "        8.09101062e-02, -2.92125685e-01,  9.52874015e-02, -5.09227076e-02,\n",
              "        3.48699364e-03, -6.92906637e-02,  1.28421702e-02, -7.89649721e-02,\n",
              "       -3.88593928e-03, -5.20959198e-02,  2.08043307e-01, -3.46449325e-02,\n",
              "       -1.27916752e-01,  4.84877683e-02, -1.17046692e-02,  2.94734477e-02,\n",
              "       -8.57066223e-02, -8.48157607e-02,  1.32193917e-01, -1.97314598e-01,\n",
              "       -6.49330355e-02,  2.99059335e-01,  1.53222102e-01,  7.66084987e-02,\n",
              "        1.46504213e-02,  1.20253278e-01,  6.17537950e-03,  1.44713235e-01,\n",
              "       -1.23151722e-01,  1.50101743e-02,  2.73396593e-02, -1.91072681e-01,\n",
              "        7.82300799e-02,  1.62178176e-01, -1.13756925e-02, -1.05940136e-01,\n",
              "       -1.45615962e-01, -5.03771092e-02, -3.18438979e-02, -6.18886404e-02,\n",
              "       -1.43754731e-02,  4.52282235e-03,  9.91307496e-03, -1.70755201e-02,\n",
              "        3.41773651e-03, -1.29112589e-01,  5.13662061e-02,  2.75555420e-02,\n",
              "       -9.57011137e-02,  1.55924556e-01, -3.20861811e-02, -6.85993612e-02,\n",
              "        6.12327916e-02,  6.30259345e-02, -1.67180879e-01, -9.11822897e-03,\n",
              "       -5.37927629e-02,  5.91278465e-02,  9.15250912e-02, -4.13095355e-02,\n",
              "       -1.66203045e-02,  1.20972417e-01,  5.21976140e-02,  6.07703998e-02,\n",
              "        1.20998094e-01, -1.35648183e-01, -6.21322884e-02, -1.84130566e-02,\n",
              "       -1.59555744e-01,  4.72424316e-03,  2.11527006e-02,  1.04313037e-01,\n",
              "        2.93434125e-02,  1.03690232e-02, -1.22077084e-01,  1.83655927e-02,\n",
              "       -2.69240808e-02,  5.69259514e-04, -2.52645702e-02, -2.05264209e-02,\n",
              "       -3.83394511e-02, -3.83169187e-02,  5.42715818e-02,  1.55545717e-02,\n",
              "       -9.67980979e-02, -4.14568453e-02, -2.95558328e-03,  1.51784129e-02,\n",
              "        1.03206262e-01, -8.74212766e-03,  3.34304125e-02, -1.03093006e-01,\n",
              "       -2.92576481e-02, -7.73758751e-02,  2.13412026e-03,  6.60938673e-02,\n",
              "        8.22336854e-02, -4.99616305e-02, -1.23500391e-01, -1.26646074e-01,\n",
              "       -6.56267912e-02,  1.75870012e-02, -2.94188628e-02,  5.59957246e-03,\n",
              "        8.50123274e-02,  1.08024205e-02, -4.55931270e-03,  4.04785816e-02,\n",
              "        5.19441654e-02, -3.77201382e-03,  1.50658016e-01,  8.86592564e-02,\n",
              "       -3.56733903e-02, -9.22707456e-03, -1.18897377e-01,  6.65240814e-02,\n",
              "        1.41147573e-03, -2.56300797e-03, -6.73249921e-02,  1.52869704e-02,\n",
              "        1.45290027e-01, -1.72024757e-02,  1.88219317e-02,  9.73161454e-02,\n",
              "        7.21559528e-02, -1.32245930e-01,  2.09546022e-01,  6.60723919e-02,\n",
              "        4.24252506e-02,  1.66667423e-01,  4.05947668e-02,  3.86624290e-02,\n",
              "        1.62144901e-01, -2.00052663e-01, -3.18163604e-02,  1.50911382e-01,\n",
              "        1.58075280e-01, -6.65421279e-02, -1.28136471e-01,  2.97910458e-03,\n",
              "       -1.00288358e-01, -8.28469997e-02,  7.02742195e-02, -9.09481210e-02,\n",
              "        4.24633292e-02, -1.68893689e-01,  3.40739316e-02, -1.37632622e-01,\n",
              "       -2.71382165e-02, -1.72578219e-01,  4.81168614e-02,  5.33680378e-02,\n",
              "       -9.25962851e-02, -2.19041733e-01, -9.21119539e-02, -2.41591192e-01,\n",
              "        5.06163830e-02, -1.36847597e-03,  1.01247123e-01, -6.36981893e-02,\n",
              "        1.33164165e-01, -4.47894476e-02, -6.92756210e-03,  1.20412773e-01,\n",
              "        1.10705462e-01,  9.58215230e-02,  2.77349799e-03,  1.43483754e-01,\n",
              "       -7.68781192e-02, -3.39427882e-02,  1.71706194e-01,  1.79465012e-02,\n",
              "        3.54390079e-02, -5.75523129e-02,  1.26958727e-01, -7.62786597e-02,\n",
              "        1.35981328e-01, -4.73485570e-02, -1.56941793e-02, -4.93932164e-02,\n",
              "       -8.44893457e-02, -9.52165649e-02,  4.42224091e-02,  1.91262064e-02,\n",
              "       -6.88108040e-02,  3.28216131e-02,  4.20618067e-03, -1.30307586e-01,\n",
              "        1.11752046e-01,  4.71845170e-02, -2.13841440e-01,  1.78599148e-01,\n",
              "       -8.48554287e-02, -6.64962949e-02, -4.58052223e-02, -4.58788548e-02,\n",
              "        5.82252800e-02,  7.47469245e-02,  1.92759935e-01, -3.58082039e-02,\n",
              "       -1.63326896e-02, -5.03941374e-03,  1.05440750e-01, -6.98914100e-02,\n",
              "        3.42947949e-02, -6.38787203e-02,  1.07408170e-03, -4.68861954e-02,\n",
              "        1.92890709e-02,  3.11390694e-02, -2.15293547e-01, -5.63617737e-02,\n",
              "        6.43481397e-02,  2.54581288e-02,  5.95318711e-02, -4.43159507e-02,\n",
              "       -1.05230041e-01, -5.81214779e-03,  7.50510254e-02,  8.86697807e-02,\n",
              "       -5.86985638e-02,  1.05069628e-01,  3.78740107e-02,  3.19580546e-02,\n",
              "       -7.66502238e-02, -3.67296551e-02,  6.05794396e-02,  1.10195159e-01,\n",
              "       -7.85989356e-02,  3.89921749e-02, -1.01449024e-01,  7.19346677e-02,\n",
              "        2.55526563e-01, -1.47125374e-01, -9.95052274e-02, -1.42393209e-01,\n",
              "       -2.86884030e-02, -1.87049059e-01,  2.57924640e-02, -8.50786161e-02,\n",
              "        8.37347116e-02, -9.31284422e-03,  9.06806362e-02,  2.66724551e-03,\n",
              "        8.44528973e-02, -2.77665220e-02,  7.53706870e-02,  1.84666141e-01,\n",
              "        6.99675241e-02, -2.09977618e-01,  5.47435981e-02,  1.52837628e-02,\n",
              "        5.70974598e-02,  8.63643012e-02, -1.66126468e-02, -1.21043957e-01,\n",
              "        1.93331787e-01, -1.95345008e-01, -2.43686975e-01, -1.89090098e-02,\n",
              "        8.64487647e-02,  5.32465417e-02,  7.92317653e-02,  2.27341340e-02,\n",
              "        2.67706818e-02, -9.08991707e-02, -3.07120551e-02, -2.61946059e-02,\n",
              "       -5.84889103e-02, -6.33147771e-02, -1.32653567e-01, -1.27911467e-01,\n",
              "       -1.98516873e-01, -1.28856983e-01, -5.23441801e-02,  5.60311871e-02,\n",
              "       -8.88049349e-02, -4.26664843e-03, -9.91129969e-02, -3.58364124e-02,\n",
              "        5.91248239e-02,  9.51408410e-02,  1.19248384e-02,  6.27826941e-02,\n",
              "        4.52459263e-02,  1.06277719e-02, -1.40447335e-01,  1.45217725e-01,\n",
              "       -8.24198903e-02,  2.49097893e-02, -3.05533223e-02,  6.40745522e-02,\n",
              "       -2.02758869e-01, -1.86615813e-01, -1.92164841e-01, -1.29566327e-01,\n",
              "       -5.11892517e-03, -6.71850202e-02, -2.19268425e-02,  1.01237510e-01,\n",
              "        6.24535836e-02, -1.06540795e-01, -1.36541468e-01,  4.66393704e-02,\n",
              "       -8.99672570e-02,  2.69329573e-01, -5.92579787e-02,  8.08459396e-03,\n",
              "       -1.30819394e-02, -2.06831678e-01, -1.05497720e-01, -2.46391132e-01,\n",
              "        2.93086833e-02,  3.18459402e-02,  3.55205259e-02,  3.32910405e-02,\n",
              "       -3.50577352e-02, -7.41878393e-02,  1.24582801e-02,  7.29668049e-02,\n",
              "       -7.83301960e-02,  1.07774087e-01, -6.99478975e-02, -2.87958698e-02,\n",
              "        6.49767302e-02, -7.26859918e-02, -9.87833472e-02,  3.65624460e-02,\n",
              "       -4.77252059e-02,  3.39250709e-02, -2.53302014e-01, -6.90614383e-02,\n",
              "        7.70910719e-02,  2.93626877e-02,  6.04906502e-02, -8.32411325e-02,\n",
              "        4.82623288e-02,  2.84665234e-01,  6.74302278e-03,  1.24273576e-01,\n",
              "        7.02886841e-02,  6.69924657e-02, -6.68685992e-03,  1.24358050e-01,\n",
              "       -1.23010275e-01, -1.48820331e-02,  1.85565066e-01, -1.09068056e-01,\n",
              "       -2.68643112e-01, -5.53856201e-02,  7.24912741e-03,  2.95309142e-02,\n",
              "        1.47936280e-01, -6.52885029e-02,  1.86002770e-01,  3.52533267e-02,\n",
              "       -1.31966840e-01,  1.16710495e-01,  1.63754866e-01,  1.62797690e-01,\n",
              "        1.64910334e-01,  2.12345135e-01, -1.51435389e-01, -1.64688208e-02,\n",
              "       -1.87425611e-01, -2.67802971e-02, -7.78538742e-03, -4.53884658e-03,\n",
              "        9.99807807e-02, -1.50183856e-01, -9.19357062e-02, -3.16810097e-02,\n",
              "        5.55102050e-02, -2.17324544e-02, -2.72637657e-02, -2.54059771e-02,\n",
              "        1.77827002e-01,  1.19941376e-01, -1.64501054e-01, -1.28225868e-01,\n",
              "        7.60287360e-02, -1.15321061e-01, -1.36027477e-01, -8.30715304e-02,\n",
              "        1.00599034e-01,  8.74130482e-02, -1.68784257e-02,  5.91014844e-02,\n",
              "        1.08336784e-01,  1.41137143e-01, -1.32822657e-01,  5.65826391e-02,\n",
              "       -1.34835468e-01,  1.63091407e-01, -1.86481636e-01, -1.52940325e-02,\n",
              "       -3.52075553e-02, -1.26370572e-01, -1.27973668e-01, -7.85250626e-02,\n",
              "       -7.03654392e-02, -7.99533212e-03, -3.82060555e-02, -2.31270441e-01,\n",
              "       -1.84315869e-02,  6.51191522e-02,  1.22734360e-01, -3.35824033e-02,\n",
              "       -1.07091132e-01, -1.43304728e-01,  2.62829579e-01, -3.42147139e-02,\n",
              "       -3.42663725e-02, -3.89927582e-02,  2.63386258e-01,  2.37601555e-02,\n",
              "        1.90035070e-02, -7.99937934e-02, -3.42341815e-02, -2.03332606e-01,\n",
              "        2.15717979e-02,  1.61826147e-01, -9.30831800e-03, -5.63968553e-02,\n",
              "       -2.33457741e-02,  3.20896339e-02, -3.10339867e-03, -3.26444250e-02,\n",
              "       -1.82181048e-01, -1.13924039e-02, -1.00230494e-01,  3.25521100e-02,\n",
              "        1.07015921e-01,  7.70399345e-02, -6.83574135e-02, -1.51123606e-01,\n",
              "       -3.05857478e-01,  1.16669671e-01,  9.22978238e-02, -4.76937840e-02,\n",
              "       -1.23987908e-01, -6.50610595e-02,  6.41095586e-02, -3.13656103e-02,\n",
              "       -7.10667452e-02, -6.58714031e-02,  2.33790466e-01,  1.52906130e-02,\n",
              "       -1.61511927e-02, -1.12585821e-01, -6.44770847e-02,  9.16372534e-02,\n",
              "        8.11799456e-02,  7.40646597e-02, -3.06500891e-01, -1.35527436e-01,\n",
              "        2.32249720e-02, -7.77632158e-02, -1.16294319e-01,  1.09252040e-02,\n",
              "        1.82481634e-02,  9.42566355e-02,  1.48602537e-01, -1.38835815e-01,\n",
              "        3.17306427e-02,  2.90013263e-02, -1.48315467e-01, -3.31612385e-01,\n",
              "        1.04826431e-01, -1.34769846e-01,  1.10176690e-01, -6.77904573e-02,\n",
              "        3.15103852e-02,  3.81291197e-02,  1.18856910e-01, -3.87349436e-02,\n",
              "        2.64830901e-01, -1.14713560e-01,  1.09187975e-01, -1.46353960e-01,\n",
              "       -4.77677007e-02,  3.65959368e-02, -2.11802949e-01,  1.28103993e-01,\n",
              "       -3.87347898e-02, -6.98690231e-02, -6.33068572e-02,  1.62903850e-01,\n",
              "        6.83752962e-03, -2.56358649e-02,  2.82375083e-02,  1.83496298e-01,\n",
              "       -1.24521745e-02,  6.24913686e-02,  6.21143084e-02,  2.20036655e-01,\n",
              "        1.15811430e-01,  1.24344682e-01, -9.48322619e-02, -4.52860429e-02,\n",
              "        1.72124620e-01, -1.14067615e-01, -3.60970211e-02, -6.45951476e-02,\n",
              "       -7.30254409e-02, -9.60102267e-02,  3.31409668e-02,  1.22560744e-01,\n",
              "       -7.05022564e-02,  2.91442960e-02, -6.92341589e-02, -6.65730323e-02,\n",
              "       -5.29874742e-02, -2.45400212e-02, -1.23660110e-02, -1.62303811e-03,\n",
              "        8.97781311e-02, -1.08485602e-01,  1.44191667e-01, -1.05304239e-01,\n",
              "       -1.10417273e-01, -1.76169374e-01,  1.90794614e-01, -1.40850130e-01,\n",
              "        5.87293054e-02, -2.82092960e-02, -6.56479421e-02, -3.59384841e-02,\n",
              "       -5.48447374e-02, -2.69173780e-01,  1.30533260e-01, -1.14227335e-01,\n",
              "        7.65750728e-02, -4.33697810e-02,  1.85161836e-01, -3.07222295e-02,\n",
              "       -4.59663120e-02, -6.57722940e-02,  7.95136143e-03,  4.20790764e-02,\n",
              "       -3.95255080e-02,  1.00597221e-01,  8.39233258e-02,  1.01103296e-01,\n",
              "        2.05938376e-01,  1.96591056e-02, -9.02058870e-02, -5.21834360e-02,\n",
              "       -2.20494594e-01, -2.42950051e-01, -1.56251270e-01, -1.22316394e-01,\n",
              "        7.06763787e-02,  4.52810613e-02,  7.43426532e-02, -3.65650183e-02,\n",
              "        5.84304498e-02,  8.55023516e-02, -7.97569518e-02, -4.04988603e-02,\n",
              "        9.67908916e-02,  4.87643406e-02,  6.03553123e-02, -1.79281046e-01,\n",
              "        2.31308908e-02, -3.86941663e-03, -1.75368282e-02,  5.71485761e-02,\n",
              "       -1.88479099e-02,  3.02401690e-02,  3.62016700e-02, -3.96556107e-02,\n",
              "       -1.07686541e-01,  1.10195312e-01,  9.47896686e-02,  1.49832933e-01,\n",
              "       -6.34675770e-02,  3.21902143e-02, -2.74200949e-02,  8.40566581e-02,\n",
              "       -6.56575826e-02, -4.27370346e-02, -8.31956737e-02, -9.18958196e-03,\n",
              "        5.96995876e-02, -2.47064091e-02,  1.56312122e-01,  1.67263841e-02,\n",
              "       -2.68890630e-02,  6.00847593e-02, -5.06682821e-02,  8.83655612e-02,\n",
              "       -1.74682878e-01,  7.47001258e-02, -9.82244036e-02, -1.97647632e-02,\n",
              "       -2.57803510e-02,  2.05103664e-01,  6.19267503e-02, -2.53975969e-04,\n",
              "        1.14588402e-01, -1.16087018e-01,  1.33404889e-01,  1.10819147e-02,\n",
              "        2.40676672e-01, -1.53371595e-02, -6.95269651e-02, -2.36305138e-02,\n",
              "       -7.12525860e-02, -5.81659023e-02,  2.39552509e-01,  7.87708616e-02,\n",
              "       -8.05904863e-03,  5.36408225e-03,  1.79544691e-02,  7.86220835e-02,\n",
              "       -2.81390014e-01,  1.78775460e-01,  6.49786445e-02,  5.61173438e-02,\n",
              "        1.02274581e-01,  1.26621674e-01,  1.05630734e-01,  1.00444713e-01,\n",
              "        8.07617369e-02, -5.11005415e-02,  1.03893973e-02, -1.31083568e-01,\n",
              "       -1.00324884e-01,  1.33003513e-01, -4.16578898e-02,  1.10547714e-01,\n",
              "       -5.79502893e-02, -2.00853017e-01,  1.21700323e-01,  4.23485757e-03,\n",
              "       -3.44349065e-02,  1.41849279e-01,  8.83582361e-02,  4.99712444e-02,\n",
              "       -9.69036138e-03, -1.05536801e-01, -9.81330548e-03, -2.73248544e-02,\n",
              "        8.00354972e-03, -3.50642088e-03, -1.20415062e-01, -4.96041495e-02,\n",
              "        1.53795441e-02,  7.27390432e-02, -3.36688027e-02, -1.43231275e-01,\n",
              "        5.63730694e-02, -1.29999323e-01, -8.27898178e-02,  1.11621159e-01,\n",
              "        2.13782406e-01,  1.31587587e-01, -7.14732931e-02,  1.53827214e-01,\n",
              "        1.24975900e-01, -2.52818297e-01,  1.85958529e-01,  1.06532340e-01,\n",
              "       -1.69315392e-01,  3.08887083e-02,  2.06001712e-01,  2.28825913e-01,\n",
              "        9.04368669e-02, -9.83586139e-02, -6.72174940e-03,  2.51986010e-02,\n",
              "       -1.85085404e-01,  1.40613745e-01,  8.55234709e-03, -1.82632657e-01,\n",
              "        1.32498993e-01, -8.81147632e-02,  1.30234170e-01,  7.94409933e-02,\n",
              "       -2.21623707e-02,  9.32027931e-02,  6.40881331e-02, -1.98164928e-02,\n",
              "       -7.80259242e-03,  2.92438406e-02, -8.56347662e-02,  6.05683817e-02,\n",
              "       -6.52978056e-02, -1.10344531e-02, -6.46017133e-02,  8.95510038e-02,\n",
              "       -2.87550899e-02, -6.02785528e-02,  1.29260388e-01, -7.30634309e-02])"
            ]
          },
          "metadata": {},
          "execution_count": 66
        }
      ],
      "source": [
        "mu, sigma = 0, 0.1 # mean and standard deviation\n",
        "s = np.random.normal(mu, sigma, 1000)\n",
        "s"
      ]
    },
    {
      "cell_type": "markdown",
      "metadata": {
        "id": "BQQ5QKBpf3vv"
      },
      "source": [
        "### Exercise\n",
        "* Simulate a six-sided dice using numpy.random.choice(), generate a list of values you would obtain from 10 throws.\n",
        "* Simulate a two-sided coin toss that is NOT fair: it is twice as likely to have head than tails.\n"
      ]
    },
    {
      "cell_type": "code",
      "execution_count": null,
      "metadata": {
        "id": "OSbPqKtLf3vv"
      },
      "outputs": [],
      "source": [
        ""
      ]
    }
  ],
  "metadata": {
    "kernelspec": {
      "display_name": "Python 3",
      "language": "python",
      "name": "python3"
    },
    "language_info": {
      "codemirror_mode": {
        "name": "ipython",
        "version": 3
      },
      "file_extension": ".py",
      "mimetype": "text/x-python",
      "name": "python",
      "nbconvert_exporter": "python",
      "pygments_lexer": "ipython3",
      "version": "3.7.4"
    },
    "colab": {
      "name": "NumPy Practice.ipynb",
      "provenance": [],
      "include_colab_link": true
    }
  },
  "nbformat": 4,
  "nbformat_minor": 0
}