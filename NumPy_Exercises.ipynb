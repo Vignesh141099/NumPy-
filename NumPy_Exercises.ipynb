{
  "nbformat": 4,
  "nbformat_minor": 0,
  "metadata": {
    "colab": {
      "name": "NumPy Exercises.ipynb",
      "provenance": [],
      "authorship_tag": "ABX9TyNxKtoSW6oe9sq3LkZbhXlA",
      "include_colab_link": true
    },
    "kernelspec": {
      "name": "python3",
      "display_name": "Python 3"
    },
    "language_info": {
      "name": "python"
    }
  },
  "cells": [
    {
      "cell_type": "markdown",
      "metadata": {
        "id": "view-in-github",
        "colab_type": "text"
      },
      "source": [
        "<a href=\"https://colab.research.google.com/github/Vignesh141099/NumPy-/blob/main/NumPy_Exercises.ipynb\" target=\"_parent\"><img src=\"https://colab.research.google.com/assets/colab-badge.svg\" alt=\"Open In Colab\"/></a>"
      ]
    },
    {
      "cell_type": "markdown",
      "source": [
        "###Exercise\n",
        "Generate a 1D numpy array with the values [7, 9, 65, 33, 85, 99]\n",
        "\n",
        "Generate a matrix (2D numpy array) of the values:\n",
        "\n",
        "\n",
        "\\begin{align}\n",
        "  \\mathbf{A} =\n",
        "  \\begin{pmatrix}\n",
        "    1 & 2 & 4 \\\\\n",
        "    2 & 3 & 0 \\\\\n",
        "    0 & 5 & 1\n",
        "  \\end{pmatrix}\n",
        "\\end{align}\n",
        "\n",
        "Change the dimensions of this array to another permitted shape"
      ],
      "metadata": {
        "id": "a9znfCOFZ5_8"
      }
    },
    {
      "cell_type": "code",
      "source": [
        "import numpy as np"
      ],
      "metadata": {
        "id": "Gnyc3FG_aeYJ"
      },
      "execution_count": 3,
      "outputs": []
    },
    {
      "cell_type": "code",
      "execution_count": 8,
      "metadata": {
        "colab": {
          "base_uri": "https://localhost:8080/"
        },
        "id": "rIcRJW6pZop6",
        "outputId": "68ab9155-78f9-45c2-d33d-1fe2d563520c"
      },
      "outputs": [
        {
          "output_type": "execute_result",
          "data": {
            "text/plain": [
              "array([ 7,  9, 65, 33, 85, 99])"
            ]
          },
          "metadata": {},
          "execution_count": 8
        }
      ],
      "source": [
        "#creating a 1D numpy array\n",
        "\n",
        "my_list = [7,9,65,33,85,99]\n",
        "arr_1d=np.array(my_list)\n",
        "arr_1d"
      ]
    },
    {
      "cell_type": "code",
      "source": [
        "# Generating a matrix\n",
        "\n",
        "arr_2d = np.array([[1,2,4],[2,3,0],[0,5,1]])\n",
        "arr_2d\n"
      ],
      "metadata": {
        "colab": {
          "base_uri": "https://localhost:8080/"
        },
        "id": "wuNdp8QFbNBj",
        "outputId": "0adbcebd-dd0f-43fe-e703-7fbfdf8df3e4"
      },
      "execution_count": 10,
      "outputs": [
        {
          "output_type": "execute_result",
          "data": {
            "text/plain": [
              "array([[1, 2, 4],\n",
              "       [2, 3, 0],\n",
              "       [0, 5, 1]])"
            ]
          },
          "metadata": {},
          "execution_count": 10
        }
      ]
    },
    {
      "cell_type": "code",
      "source": [
        "#Changing the dimensions arr_2d to another permitted shape\n",
        "\n",
        "arr_reshape = arr_2d.reshape(1,9)\n",
        "arr_reshape"
      ],
      "metadata": {
        "colab": {
          "base_uri": "https://localhost:8080/"
        },
        "id": "lLOIGG0mcG2W",
        "outputId": "2f3cb77d-d4a7-4c9d-a91f-a0c499d676da"
      },
      "execution_count": 11,
      "outputs": [
        {
          "output_type": "execute_result",
          "data": {
            "text/plain": [
              "array([[1, 2, 4, 2, 3, 0, 0, 5, 1]])"
            ]
          },
          "metadata": {},
          "execution_count": 11
        }
      ]
    },
    {
      "cell_type": "code",
      "source": [
        "arr_reshape = arr_2d.reshape(9,1)\n",
        "arr_reshape"
      ],
      "metadata": {
        "colab": {
          "base_uri": "https://localhost:8080/"
        },
        "id": "aPbhHuqKcu--",
        "outputId": "d558daee-93ac-44cc-b764-f64e47256795"
      },
      "execution_count": 12,
      "outputs": [
        {
          "output_type": "execute_result",
          "data": {
            "text/plain": [
              "array([[1],\n",
              "       [2],\n",
              "       [4],\n",
              "       [2],\n",
              "       [3],\n",
              "       [0],\n",
              "       [0],\n",
              "       [5],\n",
              "       [1]])"
            ]
          },
          "metadata": {},
          "execution_count": 12
        }
      ]
    },
    {
      "cell_type": "markdown",
      "source": [
        "### Exercise\n",
        "\n",
        "* #### Create an array of string numbers, but use dtype to make it an array of floats.\n",
        "* #### Transpose the matrix, printing the new size and shape.\n",
        "* #### Use the .astype() method to convert the array to boolean."
      ],
      "metadata": {
        "id": "QUYru8gJm9Qt"
      }
    },
    {
      "cell_type": "code",
      "source": [
        "# Create an array of string numbers, but use dtype to make it an array of floats.\n",
        "\n",
        "item = ['14','12','18','11','21']\n",
        "arr = np.array(item)\n",
        "print(arr)\n",
        "arr.dtype\n"
      ],
      "metadata": {
        "colab": {
          "base_uri": "https://localhost:8080/"
        },
        "id": "uwIyLKt7c3mW",
        "outputId": "5a082c2a-8863-4eb4-a144-1a3325dd86db"
      },
      "execution_count": 20,
      "outputs": [
        {
          "output_type": "stream",
          "name": "stdout",
          "text": [
            "['14' '12' '18' '11' '21']\n"
          ]
        },
        {
          "output_type": "execute_result",
          "data": {
            "text/plain": [
              "dtype('<U2')"
            ]
          },
          "metadata": {},
          "execution_count": 20
        }
      ]
    },
    {
      "cell_type": "code",
      "source": [
        "# changing the datatype\n",
        "from numpy.core.memmap import dtype\n",
        "arr.dtype='float64'\n",
        "print(arr)\n",
        "arr.dtype"
      ],
      "metadata": {
        "colab": {
          "base_uri": "https://localhost:8080/"
        },
        "id": "BUGNJaffoQHX",
        "outputId": "7e2fae23-6386-49de-9a7f-c92b0e21e9ff"
      },
      "execution_count": 18,
      "outputs": [
        {
          "output_type": "stream",
          "name": "stdout",
          "text": [
            "[1.10343781e-312 0.00000000e+000 1.06099790e-312 1.10343781e-312\n",
            " 1.18831764e-312 0.00000000e+000 1.03977794e-312 1.20953760e-312\n",
            " 1.03977794e-312 0.00000000e+000]\n"
          ]
        },
        {
          "output_type": "execute_result",
          "data": {
            "text/plain": [
              "dtype('float64')"
            ]
          },
          "metadata": {},
          "execution_count": 18
        }
      ]
    },
    {
      "cell_type": "code",
      "source": [
        "#Transpose the matrix, printing the new size and shape.\n",
        "mat = np.array([[1,2,4,5],[2,3,0,6],[0,5,1,7]])\n",
        "print(mat)\n",
        "print(\"shape:\\n\",mat.shape)\n",
        "print(\"size:\",mat.size)\n"
      ],
      "metadata": {
        "colab": {
          "base_uri": "https://localhost:8080/"
        },
        "id": "4VH08zpnpQjA",
        "outputId": "04f7ba8b-452c-4315-c9a1-d686ae0bbdb3"
      },
      "execution_count": 24,
      "outputs": [
        {
          "output_type": "stream",
          "name": "stdout",
          "text": [
            "[[1 2 4 5]\n",
            " [2 3 0 6]\n",
            " [0 5 1 7]]\n",
            "shape:\n",
            " (3, 4)\n",
            "size: 12\n"
          ]
        }
      ]
    },
    {
      "cell_type": "code",
      "source": [
        "# now we are going to transpose the above matrix mat\n",
        "mat1 = mat.T\n",
        "print(mat1)\n",
        "print(\"shape:\\n\",mat1.shape)\n",
        "print(\"size:\",mat1.size)"
      ],
      "metadata": {
        "colab": {
          "base_uri": "https://localhost:8080/"
        },
        "id": "So40Tkq2qV3U",
        "outputId": "279c8a26-76cd-46de-f7a7-1636a7fac472"
      },
      "execution_count": 30,
      "outputs": [
        {
          "output_type": "stream",
          "name": "stdout",
          "text": [
            "[[1 2 0]\n",
            " [2 3 5]\n",
            " [4 0 1]\n",
            " [5 6 7]]\n",
            "shape:\n",
            " (4, 3)\n",
            "size: 12\n"
          ]
        }
      ]
    },
    {
      "cell_type": "code",
      "source": [
        "#Use the .astype() method to convert the array to boolean.\n",
        "arr = np.array([7,9,65,33,85,99])\n",
        "print(arr.astype('bool'))"
      ],
      "metadata": {
        "colab": {
          "base_uri": "https://localhost:8080/"
        },
        "id": "HR6NsEKUrYYW",
        "outputId": "d757ab73-bbea-45c1-cf6d-db6976c7f3b4"
      },
      "execution_count": 32,
      "outputs": [
        {
          "output_type": "stream",
          "name": "stdout",
          "text": [
            "[ True  True  True  True  True  True]\n"
          ]
        }
      ]
    },
    {
      "cell_type": "markdown",
      "source": [
        "### Exercise\n",
        "\n",
        "* Create a numpy array with 50 zeros\n",
        "* Create a np array of 2 repeated 20 times\n",
        "* Create a numpy array from 0 to 2 $\\pi$ in steps of 0.1\n",
        "\n",
        "For one of the arrays generated:\n",
        "* Get the first five values\n",
        "* Get the last 3 values\n",
        "* Get the 4th value to the 7th value"
      ],
      "metadata": {
        "id": "slZI_rqHsx-U"
      }
    },
    {
      "cell_type": "code",
      "source": [
        "# to Create a numpy array with 50 zeros\n",
        "\n",
        "zero=np.zeros(50)\n",
        "zero"
      ],
      "metadata": {
        "colab": {
          "base_uri": "https://localhost:8080/"
        },
        "id": "dn0pfEjuswXS",
        "outputId": "f08e98b6-0a23-4494-f217-f6027cfb37b9"
      },
      "execution_count": 34,
      "outputs": [
        {
          "output_type": "execute_result",
          "data": {
            "text/plain": [
              "array([0., 0., 0., 0., 0., 0., 0., 0., 0., 0., 0., 0., 0., 0., 0., 0., 0.,\n",
              "       0., 0., 0., 0., 0., 0., 0., 0., 0., 0., 0., 0., 0., 0., 0., 0., 0.,\n",
              "       0., 0., 0., 0., 0., 0., 0., 0., 0., 0., 0., 0., 0., 0., 0., 0.])"
            ]
          },
          "metadata": {},
          "execution_count": 34
        }
      ]
    },
    {
      "cell_type": "code",
      "source": [
        "# To Create a np array of 2 repeated 20 times\n",
        "\n",
        "repeat= np.repeat(2,20)\n",
        "repeat"
      ],
      "metadata": {
        "colab": {
          "base_uri": "https://localhost:8080/"
        },
        "id": "0lOPMFa_tFxw",
        "outputId": "e175a11a-6c5f-403d-bf7a-03493d1e1851"
      },
      "execution_count": 35,
      "outputs": [
        {
          "output_type": "execute_result",
          "data": {
            "text/plain": [
              "array([2, 2, 2, 2, 2, 2, 2, 2, 2, 2, 2, 2, 2, 2, 2, 2, 2, 2, 2, 2])"
            ]
          },
          "metadata": {},
          "execution_count": 35
        }
      ]
    },
    {
      "cell_type": "code",
      "source": [
        "# To Create a numpy array from 0 to 2  π  in steps of 0.1\n",
        "\n",
        "arr = np.arange(0,2*3.14,0.1)\n",
        "arr"
      ],
      "metadata": {
        "colab": {
          "base_uri": "https://localhost:8080/"
        },
        "id": "mWNK7Ap8tap4",
        "outputId": "96f978b9-99be-46a6-8b21-7ca0aff54f75"
      },
      "execution_count": 38,
      "outputs": [
        {
          "output_type": "execute_result",
          "data": {
            "text/plain": [
              "array([0. , 0.1, 0.2, 0.3, 0.4, 0.5, 0.6, 0.7, 0.8, 0.9, 1. , 1.1, 1.2,\n",
              "       1.3, 1.4, 1.5, 1.6, 1.7, 1.8, 1.9, 2. , 2.1, 2.2, 2.3, 2.4, 2.5,\n",
              "       2.6, 2.7, 2.8, 2.9, 3. , 3.1, 3.2, 3.3, 3.4, 3.5, 3.6, 3.7, 3.8,\n",
              "       3.9, 4. , 4.1, 4.2, 4.3, 4.4, 4.5, 4.6, 4.7, 4.8, 4.9, 5. , 5.1,\n",
              "       5.2, 5.3, 5.4, 5.5, 5.6, 5.7, 5.8, 5.9, 6. , 6.1, 6.2])"
            ]
          },
          "metadata": {},
          "execution_count": 38
        }
      ]
    },
    {
      "cell_type": "code",
      "source": [
        "# To Get the first five values\n",
        "# To Get the last 3 values\n",
        "# To Get the 4th value to the 7th value - array starts from 0 so 4th value will be 3rd index till 7th value means till 0.6.\n",
        "\n",
        "a = print(arr[0:5])\n",
        "b = print(arr[60:])\n",
        "c = print(arr[3:7])"
      ],
      "metadata": {
        "colab": {
          "base_uri": "https://localhost:8080/"
        },
        "id": "rJGvAKg-t7t-",
        "outputId": "a87cb449-37f8-4e20-8725-ef9e17222223"
      },
      "execution_count": 40,
      "outputs": [
        {
          "output_type": "stream",
          "name": "stdout",
          "text": [
            "[0.  0.1 0.2 0.3 0.4]\n",
            "[6.  6.1 6.2]\n",
            "[0.3 0.4 0.5 0.6]\n"
          ]
        }
      ]
    },
    {
      "cell_type": "markdown",
      "source": [
        "### Exercise\n",
        "Take one of the arrays you defined and\n",
        "* #### Reverse it\n",
        "* #### Only keep every 4th element.\n",
        "* #### Get every 2nd element, starting from the last and moving backwards."
      ],
      "metadata": {
        "id": "zDD86cTNv7Ty"
      }
    },
    {
      "cell_type": "code",
      "source": [
        "#Reverse it\n",
        "arr = np.array([7,9,65,33,85,99])\n",
        "print(arr)\n",
        "reverse = np.flip(arr)\n",
        "print(reverse)\n"
      ],
      "metadata": {
        "colab": {
          "base_uri": "https://localhost:8080/"
        },
        "id": "LwrKy7owvTko",
        "outputId": "a2a50048-62a1-4c84-e0c0-d1fd5fca3312"
      },
      "execution_count": 42,
      "outputs": [
        {
          "output_type": "stream",
          "name": "stdout",
          "text": [
            "[ 7  9 65 33 85 99]\n",
            "[99 85 33 65  9  7]\n"
          ]
        }
      ]
    },
    {
      "cell_type": "code",
      "source": [
        "#Only keep every 4th element.\n",
        "\n",
        "arr[0::4]"
      ],
      "metadata": {
        "colab": {
          "base_uri": "https://localhost:8080/"
        },
        "id": "n-llJrzxwdDU",
        "outputId": "46a4fd63-1fa8-42f7-d6fb-73ef2ed2ef4e"
      },
      "execution_count": 44,
      "outputs": [
        {
          "output_type": "execute_result",
          "data": {
            "text/plain": [
              "array([ 7, 85])"
            ]
          },
          "metadata": {},
          "execution_count": 44
        }
      ]
    },
    {
      "cell_type": "code",
      "source": [
        "#Get every 2nd element, starting from the last and moving backwards.\n",
        "arr = np.array([7,9,65,33,85,99])\n",
        "print(arr[::2][::-1])\n",
        "print (arr[::2][::-1])"
      ],
      "metadata": {
        "colab": {
          "base_uri": "https://localhost:8080/"
        },
        "id": "WYIQLqe_w73W",
        "outputId": "54c0da81-798f-4304-8920-065f0359be03"
      },
      "execution_count": 46,
      "outputs": [
        {
          "output_type": "stream",
          "name": "stdout",
          "text": [
            "[85 65  7]\n",
            "[85 65  7]\n"
          ]
        }
      ]
    },
    {
      "cell_type": "markdown",
      "source": [
        "### Exercise\n",
        "\n",
        "* Compute min, max, sum, mean, median, variance, and standard deviation of the above array, all to to 2 decimal places."
      ],
      "metadata": {
        "id": "TObqaS-EyG2r"
      }
    },
    {
      "cell_type": "code",
      "source": [
        "nums = np.arange(0, 4, 0.2555)\n",
        "nums"
      ],
      "metadata": {
        "colab": {
          "base_uri": "https://localhost:8080/"
        },
        "id": "Q7SiWZZHxf_L",
        "outputId": "cb0f87f0-d2e7-4fa8-cbf7-2ecd6534f707"
      },
      "execution_count": 48,
      "outputs": [
        {
          "output_type": "execute_result",
          "data": {
            "text/plain": [
              "array([0.    , 0.2555, 0.511 , 0.7665, 1.022 , 1.2775, 1.533 , 1.7885,\n",
              "       2.044 , 2.2995, 2.555 , 2.8105, 3.066 , 3.3215, 3.577 , 3.8325])"
            ]
          },
          "metadata": {},
          "execution_count": 48
        }
      ]
    },
    {
      "cell_type": "code",
      "source": [
        "print(\"min = \", np.min(nums).round(2))\n",
        "print(\"max = \", np.max(nums).round(2))\n",
        "print(\"sum = \", np.sum(nums).round(2))\n",
        "print(\"mean = \", np.mean(nums).round(2))\n",
        "print(\"median = \", np.median(nums).round(2))\n",
        "print(\"var = \", np.var(nums).round(2))\n",
        "print(\"std = \", np.std(nums).round(2))"
      ],
      "metadata": {
        "colab": {
          "base_uri": "https://localhost:8080/"
        },
        "id": "bwoEn-MaybAe",
        "outputId": "9d9568f0-8004-4481-f5a4-461e519b7d5b"
      },
      "execution_count": 49,
      "outputs": [
        {
          "output_type": "stream",
          "name": "stdout",
          "text": [
            "min =  0.0\n",
            "max =  3.83\n",
            "sum =  30.66\n",
            "mean =  1.92\n",
            "median =  1.92\n",
            "var =  1.39\n",
            "std =  1.18\n"
          ]
        }
      ]
    },
    {
      "cell_type": "markdown",
      "source": [
        "### Exercise\n",
        "* Simulate a six-sided dice using numpy.random.choice(), generate a list of values you would obtain from 10 throws.\n",
        "* Simulate a two-sided coin toss that is NOT fair: it is twice as likely to have head than tails.\n"
      ],
      "metadata": {
        "id": "hy4L_QlMyeH2"
      }
    },
    {
      "cell_type": "code",
      "source": [
        "#Simulate a six-sided dice using numpy.random.choice(), generate a list of values you would obtain from 10 throws\n",
        "np.random.choice([1,2,3,4,5,6],10)"
      ],
      "metadata": {
        "colab": {
          "base_uri": "https://localhost:8080/"
        },
        "id": "tsOs1mKJyejL",
        "outputId": "548bc7e8-ea4f-431d-ba7d-735e2b369fe2"
      },
      "execution_count": 50,
      "outputs": [
        {
          "output_type": "execute_result",
          "data": {
            "text/plain": [
              "array([6, 5, 1, 2, 6, 6, 4, 3, 4, 5])"
            ]
          },
          "metadata": {},
          "execution_count": 50
        }
      ]
    },
    {
      "cell_type": "code",
      "source": [
        "#Simulate a two-sided coin toss that is NOT fair: it is twice as likely to have head than tails.\n",
        "np.random.choice([\"H\",\"H\",\"T\"],10)"
      ],
      "metadata": {
        "colab": {
          "base_uri": "https://localhost:8080/"
        },
        "id": "9EuZ24wkzU_m",
        "outputId": "6ef164a8-9fd3-48ab-b688-f229e21b9f68"
      },
      "execution_count": 51,
      "outputs": [
        {
          "output_type": "execute_result",
          "data": {
            "text/plain": [
              "array(['H', 'H', 'T', 'H', 'H', 'T', 'H', 'H', 'T', 'H'], dtype='<U1')"
            ]
          },
          "metadata": {},
          "execution_count": 51
        }
      ]
    }
  ]
}